{
 "cells": [
  {
   "cell_type": "markdown",
   "metadata": {},
   "source": [
    "# Project: Identify Customer Segments\n",
    "\n",
    "In this project, you will apply unsupervised learning techniques to identify segments of the population that form the core customer base for a mail-order sales company in Germany. These segments can then be used to direct marketing campaigns towards audiences that will have the highest expected rate of returns. The data that you will use has been provided by our partners at Bertelsmann Arvato Analytics, and represents a real-life data science task.\n",
    "\n",
    "This notebook will help you complete this task by providing a framework within which you will perform your analysis steps. In each step of the project, you will see some text describing the subtask that you will perform, followed by one or more code cells for you to complete your work. **Feel free to add additional code and markdown cells as you go along so that you can explore everything in precise chunks.** The code cells provided in the base template will outline only the major tasks, and will usually not be enough to cover all of the minor tasks that comprise it.\n",
    "\n",
    "It should be noted that while there will be precise guidelines on how you should handle certain tasks in the project, there will also be places where an exact specification is not provided. **There will be times in the project where you will need to make and justify your own decisions on how to treat the data.** These are places where there may not be only one way to handle the data. In real-life tasks, there may be many valid ways to approach an analysis task. One of the most important things you can do is clearly document your approach so that other scientists can understand the decisions you've made.\n",
    "\n",
    "At the end of most sections, there will be a Markdown cell labeled **Discussion**. In these cells, you will report your findings for the completed section, as well as document the decisions that you made in your approach to each subtask. **Your project will be evaluated not just on the code used to complete the tasks outlined, but also your communication about your observations and conclusions at each stage.**"
   ]
  },
  {
   "cell_type": "code",
   "execution_count": 75,
   "metadata": {},
   "outputs": [],
   "source": [
    "# import libraries here; add more as necessary\n",
    "import numpy as np\n",
    "import pandas as pd\n",
    "import matplotlib.pyplot as plt\n",
    "import seaborn as sns\n",
    "# magic word for producing visualizations in notebook\n",
    "%matplotlib inline\n",
    "from sklearn.cluster import KMeans"
   ]
  },
  {
   "cell_type": "markdown",
   "metadata": {},
   "source": [
    "### Step 0: Load the Data\n",
    "\n",
    "There are four files associated with this project (not including this one):\n",
    "\n",
    "- `Udacity_AZDIAS_Subset.csv`: Demographics data for the general population of Germany; 891211 persons (rows) x 85 features (columns).\n",
    "- `Udacity_CUSTOMERS_Subset.csv`: Demographics data for customers of a mail-order company; 191652 persons (rows) x 85 features (columns).\n",
    "- `Data_Dictionary.md`: Detailed information file about the features in the provided datasets.\n",
    "- `AZDIAS_Feature_Summary.csv`: Summary of feature attributes for demographics data; 85 features (rows) x 4 columns\n",
    "\n",
    "Each row of the demographics files represents a single person, but also includes information outside of individuals, including information about their household, building, and neighborhood. You will use this information to cluster the general population into groups with similar demographic properties. Then, you will see how the people in the customers dataset fit into those created clusters. The hope here is that certain clusters are over-represented in the customers data, as compared to the general population; those over-represented clusters will be assumed to be part of the core userbase. This information can then be used for further applications, such as targeting for a marketing campaign.\n",
    "\n",
    "To start off with, load in the demographics data for the general population into a pandas DataFrame, and do the same for the feature attributes summary. Note for all of the `.csv` data files in this project: they're semicolon (`;`) delimited, so you'll need an additional argument in your [`read_csv()`](https://pandas.pydata.org/pandas-docs/stable/generated/pandas.read_csv.html) call to read in the data properly. Also, considering the size of the main dataset, it may take some time for it to load completely.\n",
    "\n",
    "Once the dataset is loaded, it's recommended that you take a little bit of time just browsing the general structure of the dataset and feature summary file. You'll be getting deep into the innards of the cleaning in the first major step of the project, so gaining some general familiarity can help you get your bearings."
   ]
  },
  {
   "cell_type": "code",
   "execution_count": 76,
   "metadata": {},
   "outputs": [],
   "source": [
    "# Load in the general demographics data.\n",
    "azdias = pd.read_csv('Udacity_AZDIAS_Subset.csv',sep=';')\n",
    "\n",
    "# Load in the feature summary file.\n",
    "feat_info = pd.read_csv('AZDIAS_Feature_Summary.csv',sep=';')"
   ]
  },
  {
   "cell_type": "code",
   "execution_count": 77,
   "metadata": {},
   "outputs": [
    {
     "name": "stdout",
     "output_type": "stream",
     "text": [
      "   AGER_TYP  ALTERSKATEGORIE_GROB  ANREDE_KZ  CJT_GESAMTTYP  \\\n",
      "0        -1                     2          1            2.0   \n",
      "1        -1                     1          2            5.0   \n",
      "2        -1                     3          2            3.0   \n",
      "3         2                     4          2            2.0   \n",
      "4        -1                     3          1            5.0   \n",
      "\n",
      "   FINANZ_MINIMALIST  FINANZ_SPARER  FINANZ_VORSORGER  FINANZ_ANLEGER  \\\n",
      "0                  3              4                 3               5   \n",
      "1                  1              5                 2               5   \n",
      "2                  1              4                 1               2   \n",
      "3                  4              2                 5               2   \n",
      "4                  4              3                 4               1   \n",
      "\n",
      "   FINANZ_UNAUFFAELLIGER  FINANZ_HAUSBAUER    ...     PLZ8_ANTG1  PLZ8_ANTG2  \\\n",
      "0                      5                 3    ...            NaN         NaN   \n",
      "1                      4                 5    ...            2.0         3.0   \n",
      "2                      3                 5    ...            3.0         3.0   \n",
      "3                      1                 2    ...            2.0         2.0   \n",
      "4                      3                 2    ...            2.0         4.0   \n",
      "\n",
      "   PLZ8_ANTG3  PLZ8_ANTG4  PLZ8_BAUMAX  PLZ8_HHZ  PLZ8_GBZ  ARBEIT  \\\n",
      "0         NaN         NaN          NaN       NaN       NaN     NaN   \n",
      "1         2.0         1.0          1.0       5.0       4.0     3.0   \n",
      "2         1.0         0.0          1.0       4.0       4.0     3.0   \n",
      "3         2.0         0.0          1.0       3.0       4.0     2.0   \n",
      "4         2.0         1.0          2.0       3.0       3.0     4.0   \n",
      "\n",
      "   ORTSGR_KLS9  RELAT_AB  \n",
      "0          NaN       NaN  \n",
      "1          5.0       4.0  \n",
      "2          5.0       2.0  \n",
      "3          3.0       3.0  \n",
      "4          6.0       5.0  \n",
      "\n",
      "[5 rows x 85 columns]\n",
      "              attribute information_level         type missing_or_unknown\n",
      "0              AGER_TYP            person  categorical             [-1,0]\n",
      "1  ALTERSKATEGORIE_GROB            person      ordinal           [-1,0,9]\n",
      "2             ANREDE_KZ            person  categorical             [-1,0]\n",
      "3         CJT_GESAMTTYP            person  categorical                [0]\n",
      "4     FINANZ_MINIMALIST            person      ordinal               [-1]\n"
     ]
    }
   ],
   "source": [
    "# Check the structure of the data after it's loaded (e.g. print the number of\n",
    "# rows and columns, print the first few rows).\n",
    "\n",
    "print(azdias.head())\n",
    "print(feat_info.head())"
   ]
  },
  {
   "cell_type": "markdown",
   "metadata": {},
   "source": [
    "> **Tip**: Add additional cells to keep everything in reasonably-sized chunks! Keyboard shortcut `esc --> a` (press escape to enter command mode, then press the 'A' key) adds a new cell before the active cell, and `esc --> b` adds a new cell after the active cell. If you need to convert an active cell to a markdown cell, use `esc --> m` and to convert to a code cell, use `esc --> y`. \n",
    "\n",
    "## Step 1: Preprocessing\n",
    "\n",
    "### Step 1.1: Assess Missing Data\n",
    "\n",
    "The feature summary file contains a summary of properties for each demographics data column. You will use this file to help you make cleaning decisions during this stage of the project. First of all, you should assess the demographics data in terms of missing data. Pay attention to the following points as you perform your analysis, and take notes on what you observe. Make sure that you fill in the **Discussion** cell with your findings and decisions at the end of each step that has one!\n",
    "\n",
    "#### Step 1.1.1: Convert Missing Value Codes to NaNs\n",
    "The fourth column of the feature attributes summary (loaded in above as `feat_info`) documents the codes from the data dictionary that indicate missing or unknown data. While the file encodes this as a list (e.g. `[-1,0]`), this will get read in as a string object. You'll need to do a little bit of parsing to make use of it to identify and clean the data. Convert data that matches a 'missing' or 'unknown' value code into a numpy NaN value. You might want to see how much data takes on a 'missing' or 'unknown' code, and how much data is naturally missing, as a point of interest.\n",
    "\n",
    "**As one more reminder, you are encouraged to add additional cells to break up your analysis into manageable chunks.**"
   ]
  },
  {
   "cell_type": "code",
   "execution_count": 78,
   "metadata": {},
   "outputs": [
    {
     "data": {
      "text/html": [
       "<div>\n",
       "<style scoped>\n",
       "    .dataframe tbody tr th:only-of-type {\n",
       "        vertical-align: middle;\n",
       "    }\n",
       "\n",
       "    .dataframe tbody tr th {\n",
       "        vertical-align: top;\n",
       "    }\n",
       "\n",
       "    .dataframe thead th {\n",
       "        text-align: right;\n",
       "    }\n",
       "</style>\n",
       "<table border=\"1\" class=\"dataframe\">\n",
       "  <thead>\n",
       "    <tr style=\"text-align: right;\">\n",
       "      <th></th>\n",
       "      <th>AGER_TYP</th>\n",
       "      <th>ALTERSKATEGORIE_GROB</th>\n",
       "      <th>ANREDE_KZ</th>\n",
       "      <th>CJT_GESAMTTYP</th>\n",
       "      <th>FINANZ_MINIMALIST</th>\n",
       "      <th>FINANZ_SPARER</th>\n",
       "      <th>FINANZ_VORSORGER</th>\n",
       "      <th>FINANZ_ANLEGER</th>\n",
       "      <th>FINANZ_UNAUFFAELLIGER</th>\n",
       "      <th>FINANZ_HAUSBAUER</th>\n",
       "      <th>...</th>\n",
       "      <th>PLZ8_ANTG1</th>\n",
       "      <th>PLZ8_ANTG2</th>\n",
       "      <th>PLZ8_ANTG3</th>\n",
       "      <th>PLZ8_ANTG4</th>\n",
       "      <th>PLZ8_BAUMAX</th>\n",
       "      <th>PLZ8_HHZ</th>\n",
       "      <th>PLZ8_GBZ</th>\n",
       "      <th>ARBEIT</th>\n",
       "      <th>ORTSGR_KLS9</th>\n",
       "      <th>RELAT_AB</th>\n",
       "    </tr>\n",
       "  </thead>\n",
       "  <tbody>\n",
       "    <tr>\n",
       "      <th>count</th>\n",
       "      <td>891221.000000</td>\n",
       "      <td>891221.000000</td>\n",
       "      <td>891221.000000</td>\n",
       "      <td>886367.000000</td>\n",
       "      <td>891221.000000</td>\n",
       "      <td>891221.000000</td>\n",
       "      <td>891221.000000</td>\n",
       "      <td>891221.000000</td>\n",
       "      <td>891221.000000</td>\n",
       "      <td>891221.000000</td>\n",
       "      <td>...</td>\n",
       "      <td>774706.000000</td>\n",
       "      <td>774706.000000</td>\n",
       "      <td>774706.000000</td>\n",
       "      <td>774706.000000</td>\n",
       "      <td>774706.000000</td>\n",
       "      <td>774706.000000</td>\n",
       "      <td>774706.000000</td>\n",
       "      <td>794005.000000</td>\n",
       "      <td>794005.000000</td>\n",
       "      <td>794005.00000</td>\n",
       "    </tr>\n",
       "    <tr>\n",
       "      <th>mean</th>\n",
       "      <td>-0.358435</td>\n",
       "      <td>2.777398</td>\n",
       "      <td>1.522098</td>\n",
       "      <td>3.632838</td>\n",
       "      <td>3.074528</td>\n",
       "      <td>2.821039</td>\n",
       "      <td>3.401106</td>\n",
       "      <td>3.033328</td>\n",
       "      <td>2.874167</td>\n",
       "      <td>3.075121</td>\n",
       "      <td>...</td>\n",
       "      <td>2.253330</td>\n",
       "      <td>2.801858</td>\n",
       "      <td>1.595426</td>\n",
       "      <td>0.699166</td>\n",
       "      <td>1.943913</td>\n",
       "      <td>3.612821</td>\n",
       "      <td>3.381087</td>\n",
       "      <td>3.167854</td>\n",
       "      <td>5.293002</td>\n",
       "      <td>3.07222</td>\n",
       "    </tr>\n",
       "    <tr>\n",
       "      <th>std</th>\n",
       "      <td>1.198724</td>\n",
       "      <td>1.068775</td>\n",
       "      <td>0.499512</td>\n",
       "      <td>1.595021</td>\n",
       "      <td>1.321055</td>\n",
       "      <td>1.464749</td>\n",
       "      <td>1.322134</td>\n",
       "      <td>1.529603</td>\n",
       "      <td>1.486731</td>\n",
       "      <td>1.353248</td>\n",
       "      <td>...</td>\n",
       "      <td>0.972008</td>\n",
       "      <td>0.920309</td>\n",
       "      <td>0.986736</td>\n",
       "      <td>0.727137</td>\n",
       "      <td>1.459654</td>\n",
       "      <td>0.973967</td>\n",
       "      <td>1.111598</td>\n",
       "      <td>1.002376</td>\n",
       "      <td>2.303739</td>\n",
       "      <td>1.36298</td>\n",
       "    </tr>\n",
       "    <tr>\n",
       "      <th>min</th>\n",
       "      <td>-1.000000</td>\n",
       "      <td>1.000000</td>\n",
       "      <td>1.000000</td>\n",
       "      <td>1.000000</td>\n",
       "      <td>1.000000</td>\n",
       "      <td>1.000000</td>\n",
       "      <td>1.000000</td>\n",
       "      <td>1.000000</td>\n",
       "      <td>1.000000</td>\n",
       "      <td>1.000000</td>\n",
       "      <td>...</td>\n",
       "      <td>0.000000</td>\n",
       "      <td>0.000000</td>\n",
       "      <td>0.000000</td>\n",
       "      <td>0.000000</td>\n",
       "      <td>1.000000</td>\n",
       "      <td>1.000000</td>\n",
       "      <td>1.000000</td>\n",
       "      <td>1.000000</td>\n",
       "      <td>0.000000</td>\n",
       "      <td>1.00000</td>\n",
       "    </tr>\n",
       "    <tr>\n",
       "      <th>25%</th>\n",
       "      <td>-1.000000</td>\n",
       "      <td>2.000000</td>\n",
       "      <td>1.000000</td>\n",
       "      <td>2.000000</td>\n",
       "      <td>2.000000</td>\n",
       "      <td>1.000000</td>\n",
       "      <td>3.000000</td>\n",
       "      <td>2.000000</td>\n",
       "      <td>2.000000</td>\n",
       "      <td>2.000000</td>\n",
       "      <td>...</td>\n",
       "      <td>1.000000</td>\n",
       "      <td>2.000000</td>\n",
       "      <td>1.000000</td>\n",
       "      <td>0.000000</td>\n",
       "      <td>1.000000</td>\n",
       "      <td>3.000000</td>\n",
       "      <td>3.000000</td>\n",
       "      <td>3.000000</td>\n",
       "      <td>4.000000</td>\n",
       "      <td>2.00000</td>\n",
       "    </tr>\n",
       "    <tr>\n",
       "      <th>50%</th>\n",
       "      <td>-1.000000</td>\n",
       "      <td>3.000000</td>\n",
       "      <td>2.000000</td>\n",
       "      <td>4.000000</td>\n",
       "      <td>3.000000</td>\n",
       "      <td>3.000000</td>\n",
       "      <td>3.000000</td>\n",
       "      <td>3.000000</td>\n",
       "      <td>3.000000</td>\n",
       "      <td>3.000000</td>\n",
       "      <td>...</td>\n",
       "      <td>2.000000</td>\n",
       "      <td>3.000000</td>\n",
       "      <td>2.000000</td>\n",
       "      <td>1.000000</td>\n",
       "      <td>1.000000</td>\n",
       "      <td>4.000000</td>\n",
       "      <td>3.000000</td>\n",
       "      <td>3.000000</td>\n",
       "      <td>5.000000</td>\n",
       "      <td>3.00000</td>\n",
       "    </tr>\n",
       "    <tr>\n",
       "      <th>75%</th>\n",
       "      <td>-1.000000</td>\n",
       "      <td>4.000000</td>\n",
       "      <td>2.000000</td>\n",
       "      <td>5.000000</td>\n",
       "      <td>4.000000</td>\n",
       "      <td>4.000000</td>\n",
       "      <td>5.000000</td>\n",
       "      <td>5.000000</td>\n",
       "      <td>4.000000</td>\n",
       "      <td>4.000000</td>\n",
       "      <td>...</td>\n",
       "      <td>3.000000</td>\n",
       "      <td>3.000000</td>\n",
       "      <td>2.000000</td>\n",
       "      <td>1.000000</td>\n",
       "      <td>3.000000</td>\n",
       "      <td>4.000000</td>\n",
       "      <td>4.000000</td>\n",
       "      <td>4.000000</td>\n",
       "      <td>7.000000</td>\n",
       "      <td>4.00000</td>\n",
       "    </tr>\n",
       "    <tr>\n",
       "      <th>max</th>\n",
       "      <td>3.000000</td>\n",
       "      <td>9.000000</td>\n",
       "      <td>2.000000</td>\n",
       "      <td>6.000000</td>\n",
       "      <td>5.000000</td>\n",
       "      <td>5.000000</td>\n",
       "      <td>5.000000</td>\n",
       "      <td>5.000000</td>\n",
       "      <td>5.000000</td>\n",
       "      <td>5.000000</td>\n",
       "      <td>...</td>\n",
       "      <td>4.000000</td>\n",
       "      <td>4.000000</td>\n",
       "      <td>3.000000</td>\n",
       "      <td>2.000000</td>\n",
       "      <td>5.000000</td>\n",
       "      <td>5.000000</td>\n",
       "      <td>5.000000</td>\n",
       "      <td>9.000000</td>\n",
       "      <td>9.000000</td>\n",
       "      <td>9.00000</td>\n",
       "    </tr>\n",
       "  </tbody>\n",
       "</table>\n",
       "<p>8 rows × 81 columns</p>\n",
       "</div>"
      ],
      "text/plain": [
       "            AGER_TYP  ALTERSKATEGORIE_GROB      ANREDE_KZ  CJT_GESAMTTYP  \\\n",
       "count  891221.000000         891221.000000  891221.000000  886367.000000   \n",
       "mean       -0.358435              2.777398       1.522098       3.632838   \n",
       "std         1.198724              1.068775       0.499512       1.595021   \n",
       "min        -1.000000              1.000000       1.000000       1.000000   \n",
       "25%        -1.000000              2.000000       1.000000       2.000000   \n",
       "50%        -1.000000              3.000000       2.000000       4.000000   \n",
       "75%        -1.000000              4.000000       2.000000       5.000000   \n",
       "max         3.000000              9.000000       2.000000       6.000000   \n",
       "\n",
       "       FINANZ_MINIMALIST  FINANZ_SPARER  FINANZ_VORSORGER  FINANZ_ANLEGER  \\\n",
       "count      891221.000000  891221.000000     891221.000000   891221.000000   \n",
       "mean            3.074528       2.821039          3.401106        3.033328   \n",
       "std             1.321055       1.464749          1.322134        1.529603   \n",
       "min             1.000000       1.000000          1.000000        1.000000   \n",
       "25%             2.000000       1.000000          3.000000        2.000000   \n",
       "50%             3.000000       3.000000          3.000000        3.000000   \n",
       "75%             4.000000       4.000000          5.000000        5.000000   \n",
       "max             5.000000       5.000000          5.000000        5.000000   \n",
       "\n",
       "       FINANZ_UNAUFFAELLIGER  FINANZ_HAUSBAUER      ...          PLZ8_ANTG1  \\\n",
       "count          891221.000000     891221.000000      ...       774706.000000   \n",
       "mean                2.874167          3.075121      ...            2.253330   \n",
       "std                 1.486731          1.353248      ...            0.972008   \n",
       "min                 1.000000          1.000000      ...            0.000000   \n",
       "25%                 2.000000          2.000000      ...            1.000000   \n",
       "50%                 3.000000          3.000000      ...            2.000000   \n",
       "75%                 4.000000          4.000000      ...            3.000000   \n",
       "max                 5.000000          5.000000      ...            4.000000   \n",
       "\n",
       "          PLZ8_ANTG2     PLZ8_ANTG3     PLZ8_ANTG4    PLZ8_BAUMAX  \\\n",
       "count  774706.000000  774706.000000  774706.000000  774706.000000   \n",
       "mean        2.801858       1.595426       0.699166       1.943913   \n",
       "std         0.920309       0.986736       0.727137       1.459654   \n",
       "min         0.000000       0.000000       0.000000       1.000000   \n",
       "25%         2.000000       1.000000       0.000000       1.000000   \n",
       "50%         3.000000       2.000000       1.000000       1.000000   \n",
       "75%         3.000000       2.000000       1.000000       3.000000   \n",
       "max         4.000000       3.000000       2.000000       5.000000   \n",
       "\n",
       "            PLZ8_HHZ       PLZ8_GBZ         ARBEIT    ORTSGR_KLS9  \\\n",
       "count  774706.000000  774706.000000  794005.000000  794005.000000   \n",
       "mean        3.612821       3.381087       3.167854       5.293002   \n",
       "std         0.973967       1.111598       1.002376       2.303739   \n",
       "min         1.000000       1.000000       1.000000       0.000000   \n",
       "25%         3.000000       3.000000       3.000000       4.000000   \n",
       "50%         4.000000       3.000000       3.000000       5.000000   \n",
       "75%         4.000000       4.000000       4.000000       7.000000   \n",
       "max         5.000000       5.000000       9.000000       9.000000   \n",
       "\n",
       "           RELAT_AB  \n",
       "count  794005.00000  \n",
       "mean        3.07222  \n",
       "std         1.36298  \n",
       "min         1.00000  \n",
       "25%         2.00000  \n",
       "50%         3.00000  \n",
       "75%         4.00000  \n",
       "max         9.00000  \n",
       "\n",
       "[8 rows x 81 columns]"
      ]
     },
     "execution_count": 78,
     "metadata": {},
     "output_type": "execute_result"
    }
   ],
   "source": [
    "# Identify missing or unknown data values and convert them to NaNs.\n",
    "# print(azdias[azdias.isnull().values==True])\n",
    "# azdias[azdias.isin(['unknown']).values==True]\n",
    "azdias.describe()\n",
    "# feat_info.describe()"
   ]
  },
  {
   "cell_type": "code",
   "execution_count": 79,
   "metadata": {},
   "outputs": [
    {
     "name": "stdout",
     "output_type": "stream",
     "text": [
      "                attribute information_level         type missing_or_unknown\n",
      "0                AGER_TYP            person  categorical             [-1,0]\n",
      "1    ALTERSKATEGORIE_GROB            person      ordinal           [-1,0,9]\n",
      "2               ANREDE_KZ            person  categorical             [-1,0]\n",
      "3           CJT_GESAMTTYP            person  categorical                [0]\n",
      "4       FINANZ_MINIMALIST            person      ordinal               [-1]\n",
      "5           FINANZ_SPARER            person      ordinal               [-1]\n",
      "6        FINANZ_VORSORGER            person      ordinal               [-1]\n",
      "7          FINANZ_ANLEGER            person      ordinal               [-1]\n",
      "8   FINANZ_UNAUFFAELLIGER            person      ordinal               [-1]\n",
      "9        FINANZ_HAUSBAUER            person      ordinal               [-1]\n",
      "10              FINANZTYP            person  categorical               [-1]\n",
      "11            GEBURTSJAHR            person      numeric                [0]\n",
      "12        GFK_URLAUBERTYP            person  categorical                 []\n",
      "13       GREEN_AVANTGARDE            person  categorical                 []\n",
      "14             HEALTH_TYP            person      ordinal             [-1,0]\n",
      "15    LP_LEBENSPHASE_FEIN            person        mixed                [0]\n",
      "16    LP_LEBENSPHASE_GROB            person        mixed                [0]\n",
      "17        LP_FAMILIE_FEIN            person  categorical                [0]\n",
      "18        LP_FAMILIE_GROB            person  categorical                [0]\n",
      "19         LP_STATUS_FEIN            person  categorical                [0]\n",
      "20         LP_STATUS_GROB            person  categorical                [0]\n",
      "21       NATIONALITAET_KZ            person  categorical             [-1,0]\n",
      "22  PRAEGENDE_JUGENDJAHRE            person        mixed             [-1,0]\n",
      "23         RETOURTYP_BK_S            person      ordinal                [0]\n",
      "24              SEMIO_SOZ            person      ordinal             [-1,9]\n",
      "25              SEMIO_FAM            person      ordinal             [-1,9]\n",
      "26              SEMIO_REL            person      ordinal             [-1,9]\n",
      "27              SEMIO_MAT            person      ordinal             [-1,9]\n",
      "28             SEMIO_VERT            person      ordinal             [-1,9]\n",
      "29             SEMIO_LUST            person      ordinal             [-1,9]\n",
      "..                    ...               ...          ...                ...\n",
      "55            OST_WEST_KZ          building  categorical               [-1]\n",
      "56               WOHNLAGE          building        mixed               [-1]\n",
      "57        CAMEO_DEUG_2015     microcell_rr4  categorical             [-1,X]\n",
      "58         CAMEO_DEU_2015     microcell_rr4  categorical               [XX]\n",
      "59        CAMEO_INTL_2015     microcell_rr4        mixed            [-1,XX]\n",
      "60            KBA05_ANTG1     microcell_rr3      ordinal               [-1]\n",
      "61            KBA05_ANTG2     microcell_rr3      ordinal               [-1]\n",
      "62            KBA05_ANTG3     microcell_rr3      ordinal               [-1]\n",
      "63            KBA05_ANTG4     microcell_rr3      ordinal               [-1]\n",
      "64           KBA05_BAUMAX     microcell_rr3        mixed             [-1,0]\n",
      "65              KBA05_GBZ     microcell_rr3      ordinal             [-1,0]\n",
      "66               BALLRAUM          postcode      ordinal               [-1]\n",
      "67               EWDICHTE          postcode      ordinal               [-1]\n",
      "68             INNENSTADT          postcode      ordinal               [-1]\n",
      "69     GEBAEUDETYP_RASTER        region_rr1      ordinal                 []\n",
      "70                    KKK        region_rr1      ordinal             [-1,0]\n",
      "71             MOBI_REGIO        region_rr1      ordinal                 []\n",
      "72      ONLINE_AFFINITAET        region_rr1      ordinal                 []\n",
      "73               REGIOTYP        region_rr1      ordinal             [-1,0]\n",
      "74       KBA13_ANZAHL_PKW    macrocell_plz8      numeric                 []\n",
      "75             PLZ8_ANTG1    macrocell_plz8      ordinal               [-1]\n",
      "76             PLZ8_ANTG2    macrocell_plz8      ordinal               [-1]\n",
      "77             PLZ8_ANTG3    macrocell_plz8      ordinal               [-1]\n",
      "78             PLZ8_ANTG4    macrocell_plz8      ordinal               [-1]\n",
      "79            PLZ8_BAUMAX    macrocell_plz8        mixed             [-1,0]\n",
      "80               PLZ8_HHZ    macrocell_plz8      ordinal               [-1]\n",
      "81               PLZ8_GBZ    macrocell_plz8      ordinal               [-1]\n",
      "82                 ARBEIT         community      ordinal             [-1,9]\n",
      "83            ORTSGR_KLS9         community      ordinal             [-1,0]\n",
      "84               RELAT_AB         community      ordinal             [-1,9]\n",
      "\n",
      "[85 rows x 4 columns]\n"
     ]
    }
   ],
   "source": [
    "print(feat_info)"
   ]
  },
  {
   "cell_type": "code",
   "execution_count": 80,
   "metadata": {},
   "outputs": [
    {
     "name": "stdout",
     "output_type": "stream",
     "text": [
      "-1    677503\n",
      " 2     98472\n",
      " 1     79802\n",
      " 3     27104\n",
      " 0      8340\n",
      "Name: AGER_TYP, dtype: int64\n"
     ]
    }
   ],
   "source": [
    "print(azdias['AGER_TYP'].value_counts())"
   ]
  },
  {
   "cell_type": "code",
   "execution_count": 81,
   "metadata": {},
   "outputs": [],
   "source": [
    "for i, info in feat_info.iterrows():\n",
    "    for l in info['missing_or_unknown'].strip('[]').split(','):\n",
    "        azdias[info['attribute']].replace(pd.to_numeric(l,errors='ignore'),np.nan, inplace=True)"
   ]
  },
  {
   "cell_type": "code",
   "execution_count": 82,
   "metadata": {},
   "outputs": [
    {
     "name": "stdout",
     "output_type": "stream",
     "text": [
      "2.0    98472\n",
      "1.0    79802\n",
      "3.0    27104\n",
      "Name: AGER_TYP, dtype: int64\n"
     ]
    }
   ],
   "source": [
    "print(azdias['AGER_TYP'].value_counts())"
   ]
  },
  {
   "cell_type": "markdown",
   "metadata": {},
   "source": [
    "#### Step 1.1.2: Assess Missing Data in Each Column\n",
    "\n",
    "How much missing data is present in each column? There are a few columns that are outliers in terms of the proportion of values that are missing. You will want to use matplotlib's [`hist()`](https://matplotlib.org/api/_as_gen/matplotlib.pyplot.hist.html) function to visualize the distribution of missing value counts to find these columns. Identify and document these columns. While some of these columns might have justifications for keeping or re-encoding the data, for this project you should just remove them from the dataframe. (Feel free to make remarks about these outlier columns in the discussion, however!)\n",
    "\n",
    "For the remaining features, are there any patterns in which columns have, or share, missing data?"
   ]
  },
  {
   "cell_type": "code",
   "execution_count": 83,
   "metadata": {},
   "outputs": [
    {
     "name": "stdout",
     "output_type": "stream",
     "text": [
      "AGER_TYP                 685843\n",
      "ALTERSKATEGORIE_GROB       2881\n",
      "ANREDE_KZ                     0\n",
      "CJT_GESAMTTYP              4854\n",
      "FINANZ_MINIMALIST             0\n",
      "FINANZ_SPARER                 0\n",
      "FINANZ_VORSORGER              0\n",
      "FINANZ_ANLEGER                0\n",
      "FINANZ_UNAUFFAELLIGER         0\n",
      "FINANZ_HAUSBAUER              0\n",
      "FINANZTYP                     0\n",
      "GEBURTSJAHR              392318\n",
      "GFK_URLAUBERTYP            4854\n",
      "GREEN_AVANTGARDE              0\n",
      "HEALTH_TYP               111196\n",
      "LP_LEBENSPHASE_FEIN       97632\n",
      "LP_LEBENSPHASE_GROB       94572\n",
      "LP_FAMILIE_FEIN           77792\n",
      "LP_FAMILIE_GROB           77792\n",
      "LP_STATUS_FEIN             4854\n",
      "LP_STATUS_GROB             4854\n",
      "NATIONALITAET_KZ         108315\n",
      "PRAEGENDE_JUGENDJAHRE    108164\n",
      "RETOURTYP_BK_S             4854\n",
      "SEMIO_SOZ                     0\n",
      "SEMIO_FAM                     0\n",
      "SEMIO_REL                     0\n",
      "SEMIO_MAT                     0\n",
      "SEMIO_VERT                    0\n",
      "SEMIO_LUST                    0\n",
      "                          ...  \n",
      "OST_WEST_KZ               93148\n",
      "WOHNLAGE                  93148\n",
      "CAMEO_DEUG_2015           99352\n",
      "CAMEO_DEU_2015            99352\n",
      "CAMEO_INTL_2015           99352\n",
      "KBA05_ANTG1              133324\n",
      "KBA05_ANTG2              133324\n",
      "KBA05_ANTG3              133324\n",
      "KBA05_ANTG4              133324\n",
      "KBA05_BAUMAX             476524\n",
      "KBA05_GBZ                133324\n",
      "BALLRAUM                  93740\n",
      "EWDICHTE                  93740\n",
      "INNENSTADT                93740\n",
      "GEBAEUDETYP_RASTER        93155\n",
      "KKK                      158064\n",
      "MOBI_REGIO               133324\n",
      "ONLINE_AFFINITAET          4854\n",
      "REGIOTYP                 158064\n",
      "KBA13_ANZAHL_PKW         105800\n",
      "PLZ8_ANTG1               116515\n",
      "PLZ8_ANTG2               116515\n",
      "PLZ8_ANTG3               116515\n",
      "PLZ8_ANTG4               116515\n",
      "PLZ8_BAUMAX              116515\n",
      "PLZ8_HHZ                 116515\n",
      "PLZ8_GBZ                 116515\n",
      "ARBEIT                    97375\n",
      "ORTSGR_KLS9               97274\n",
      "RELAT_AB                  97375\n",
      "Length: 85, dtype: int64\n"
     ]
    }
   ],
   "source": [
    "# Perform an assessment of how much missing data there is in each column of the\n",
    "# dataset.\n",
    "print(azdias.shape[0] - azdias.count())"
   ]
  },
  {
   "cell_type": "code",
   "execution_count": 84,
   "metadata": {},
   "outputs": [
    {
     "data": {
      "text/plain": [
       "<matplotlib.axes._subplots.AxesSubplot at 0x1641349bef0>"
      ]
     },
     "execution_count": 84,
     "metadata": {},
     "output_type": "execute_result"
    },
    {
     "data": {
      "image/png": "[encoded data removed]",
      "text/plain": [
       "<Figure size 1080x576 with 1 Axes>"
      ]
     },
     "metadata": {},
     "output_type": "display_data"
    }
   ],
   "source": [
    "# Investigate patterns in the amount of missing data in each column.\n",
    "plt.figure(figsize=(15,8)) \n",
    "(azdias.shape[0] - azdias.count()).plot.hist(bins=20)"
   ]
  },
  {
   "cell_type": "code",
   "execution_count": 85,
   "metadata": {},
   "outputs": [
    {
     "name": "stdout",
     "output_type": "stream",
     "text": [
      "AGER_TYP\n",
      "GEBURTSJAHR\n",
      "TITEL_KZ\n",
      "ALTER_HH\n",
      "KK_KUNDENTYP\n",
      "KBA05_BAUMAX\n"
     ]
    }
   ],
   "source": [
    "# Remove the outlier columns from the dataset. (You'll perform other data\n",
    "# engineering tasks such as re-encoding and imputation later.)\n",
    "# remove columns which nan is more than 200000\n",
    "my_azdias=azdias\n",
    "my_feat_info=feat_info\n",
    "\n",
    "for i in my_azdias:\n",
    "    if (len(my_azdias[i]) - my_azdias[i].count())>200000:\n",
    "        print(i)\n",
    "        my_azdias.drop([i],axis=1,inplace=True)\n",
    "        my_feat_info=my_feat_info[(~ my_feat_info['attribute'].str.contains(i))]\n",
    "        "
   ]
  },
  {
   "cell_type": "code",
   "execution_count": 86,
   "metadata": {},
   "outputs": [
    {
     "name": "stdout",
     "output_type": "stream",
     "text": [
      "                attribute information_level         type missing_or_unknown\n",
      "1    ALTERSKATEGORIE_GROB            person      ordinal           [-1,0,9]\n",
      "2               ANREDE_KZ            person  categorical             [-1,0]\n",
      "3           CJT_GESAMTTYP            person  categorical                [0]\n",
      "4       FINANZ_MINIMALIST            person      ordinal               [-1]\n",
      "5           FINANZ_SPARER            person      ordinal               [-1]\n",
      "6        FINANZ_VORSORGER            person      ordinal               [-1]\n",
      "7          FINANZ_ANLEGER            person      ordinal               [-1]\n",
      "8   FINANZ_UNAUFFAELLIGER            person      ordinal               [-1]\n",
      "9        FINANZ_HAUSBAUER            person      ordinal               [-1]\n",
      "10              FINANZTYP            person  categorical               [-1]\n",
      "12        GFK_URLAUBERTYP            person  categorical                 []\n",
      "13       GREEN_AVANTGARDE            person  categorical                 []\n",
      "14             HEALTH_TYP            person      ordinal             [-1,0]\n",
      "15    LP_LEBENSPHASE_FEIN            person        mixed                [0]\n",
      "16    LP_LEBENSPHASE_GROB            person        mixed                [0]\n",
      "17        LP_FAMILIE_FEIN            person  categorical                [0]\n",
      "18        LP_FAMILIE_GROB            person  categorical                [0]\n",
      "19         LP_STATUS_FEIN            person  categorical                [0]\n",
      "20         LP_STATUS_GROB            person  categorical                [0]\n",
      "21       NATIONALITAET_KZ            person  categorical             [-1,0]\n",
      "22  PRAEGENDE_JUGENDJAHRE            person        mixed             [-1,0]\n",
      "23         RETOURTYP_BK_S            person      ordinal                [0]\n",
      "24              SEMIO_SOZ            person      ordinal             [-1,9]\n",
      "25              SEMIO_FAM            person      ordinal             [-1,9]\n",
      "26              SEMIO_REL            person      ordinal             [-1,9]\n",
      "27              SEMIO_MAT            person      ordinal             [-1,9]\n",
      "28             SEMIO_VERT            person      ordinal             [-1,9]\n",
      "29             SEMIO_LUST            person      ordinal             [-1,9]\n",
      "30              SEMIO_ERL            person      ordinal             [-1,9]\n",
      "31             SEMIO_KULT            person      ordinal             [-1,9]\n",
      "..                    ...               ...          ...                ...\n",
      "54       MIN_GEBAEUDEJAHR          building      numeric                [0]\n",
      "55            OST_WEST_KZ          building  categorical               [-1]\n",
      "56               WOHNLAGE          building        mixed               [-1]\n",
      "57        CAMEO_DEUG_2015     microcell_rr4  categorical             [-1,X]\n",
      "58         CAMEO_DEU_2015     microcell_rr4  categorical               [XX]\n",
      "59        CAMEO_INTL_2015     microcell_rr4        mixed            [-1,XX]\n",
      "60            KBA05_ANTG1     microcell_rr3      ordinal               [-1]\n",
      "61            KBA05_ANTG2     microcell_rr3      ordinal               [-1]\n",
      "62            KBA05_ANTG3     microcell_rr3      ordinal               [-1]\n",
      "63            KBA05_ANTG4     microcell_rr3      ordinal               [-1]\n",
      "65              KBA05_GBZ     microcell_rr3      ordinal             [-1,0]\n",
      "66               BALLRAUM          postcode      ordinal               [-1]\n",
      "67               EWDICHTE          postcode      ordinal               [-1]\n",
      "68             INNENSTADT          postcode      ordinal               [-1]\n",
      "69     GEBAEUDETYP_RASTER        region_rr1      ordinal                 []\n",
      "70                    KKK        region_rr1      ordinal             [-1,0]\n",
      "71             MOBI_REGIO        region_rr1      ordinal                 []\n",
      "72      ONLINE_AFFINITAET        region_rr1      ordinal                 []\n",
      "73               REGIOTYP        region_rr1      ordinal             [-1,0]\n",
      "74       KBA13_ANZAHL_PKW    macrocell_plz8      numeric                 []\n",
      "75             PLZ8_ANTG1    macrocell_plz8      ordinal               [-1]\n",
      "76             PLZ8_ANTG2    macrocell_plz8      ordinal               [-1]\n",
      "77             PLZ8_ANTG3    macrocell_plz8      ordinal               [-1]\n",
      "78             PLZ8_ANTG4    macrocell_plz8      ordinal               [-1]\n",
      "79            PLZ8_BAUMAX    macrocell_plz8        mixed             [-1,0]\n",
      "80               PLZ8_HHZ    macrocell_plz8      ordinal               [-1]\n",
      "81               PLZ8_GBZ    macrocell_plz8      ordinal               [-1]\n",
      "82                 ARBEIT         community      ordinal             [-1,9]\n",
      "83            ORTSGR_KLS9         community      ordinal             [-1,0]\n",
      "84               RELAT_AB         community      ordinal             [-1,9]\n",
      "\n",
      "[79 rows x 4 columns]\n"
     ]
    }
   ],
   "source": [
    "print(my_feat_info)"
   ]
  },
  {
   "cell_type": "code",
   "execution_count": 87,
   "metadata": {
    "scrolled": true
   },
   "outputs": [
    {
     "data": {
      "text/html": [
       "<div>\n",
       "<style scoped>\n",
       "    .dataframe tbody tr th:only-of-type {\n",
       "        vertical-align: middle;\n",
       "    }\n",
       "\n",
       "    .dataframe tbody tr th {\n",
       "        vertical-align: top;\n",
       "    }\n",
       "\n",
       "    .dataframe thead th {\n",
       "        text-align: right;\n",
       "    }\n",
       "</style>\n",
       "<table border=\"1\" class=\"dataframe\">\n",
       "  <thead>\n",
       "    <tr style=\"text-align: right;\">\n",
       "      <th></th>\n",
       "      <th>ALTERSKATEGORIE_GROB</th>\n",
       "      <th>ANREDE_KZ</th>\n",
       "      <th>CJT_GESAMTTYP</th>\n",
       "      <th>FINANZ_MINIMALIST</th>\n",
       "      <th>FINANZ_SPARER</th>\n",
       "      <th>FINANZ_VORSORGER</th>\n",
       "      <th>FINANZ_ANLEGER</th>\n",
       "      <th>FINANZ_UNAUFFAELLIGER</th>\n",
       "      <th>FINANZ_HAUSBAUER</th>\n",
       "      <th>FINANZTYP</th>\n",
       "      <th>...</th>\n",
       "      <th>PLZ8_ANTG1</th>\n",
       "      <th>PLZ8_ANTG2</th>\n",
       "      <th>PLZ8_ANTG3</th>\n",
       "      <th>PLZ8_ANTG4</th>\n",
       "      <th>PLZ8_BAUMAX</th>\n",
       "      <th>PLZ8_HHZ</th>\n",
       "      <th>PLZ8_GBZ</th>\n",
       "      <th>ARBEIT</th>\n",
       "      <th>ORTSGR_KLS9</th>\n",
       "      <th>RELAT_AB</th>\n",
       "    </tr>\n",
       "  </thead>\n",
       "  <tbody>\n",
       "    <tr>\n",
       "      <th>count</th>\n",
       "      <td>888340.000000</td>\n",
       "      <td>891221.000000</td>\n",
       "      <td>886367.000000</td>\n",
       "      <td>891221.000000</td>\n",
       "      <td>891221.000000</td>\n",
       "      <td>891221.000000</td>\n",
       "      <td>891221.000000</td>\n",
       "      <td>891221.000000</td>\n",
       "      <td>891221.000000</td>\n",
       "      <td>891221.000000</td>\n",
       "      <td>...</td>\n",
       "      <td>774706.000000</td>\n",
       "      <td>774706.000000</td>\n",
       "      <td>774706.000000</td>\n",
       "      <td>774706.000000</td>\n",
       "      <td>774706.000000</td>\n",
       "      <td>774706.000000</td>\n",
       "      <td>774706.000000</td>\n",
       "      <td>793846.000000</td>\n",
       "      <td>793947.000000</td>\n",
       "      <td>793846.000000</td>\n",
       "    </tr>\n",
       "    <tr>\n",
       "      <th>mean</th>\n",
       "      <td>2.757217</td>\n",
       "      <td>1.522098</td>\n",
       "      <td>3.632838</td>\n",
       "      <td>3.074528</td>\n",
       "      <td>2.821039</td>\n",
       "      <td>3.401106</td>\n",
       "      <td>3.033328</td>\n",
       "      <td>2.874167</td>\n",
       "      <td>3.075121</td>\n",
       "      <td>3.790586</td>\n",
       "      <td>...</td>\n",
       "      <td>2.253330</td>\n",
       "      <td>2.801858</td>\n",
       "      <td>1.595426</td>\n",
       "      <td>0.699166</td>\n",
       "      <td>1.943913</td>\n",
       "      <td>3.612821</td>\n",
       "      <td>3.381087</td>\n",
       "      <td>3.166686</td>\n",
       "      <td>5.293389</td>\n",
       "      <td>3.071033</td>\n",
       "    </tr>\n",
       "    <tr>\n",
       "      <th>std</th>\n",
       "      <td>1.009951</td>\n",
       "      <td>0.499512</td>\n",
       "      <td>1.595021</td>\n",
       "      <td>1.321055</td>\n",
       "      <td>1.464749</td>\n",
       "      <td>1.322134</td>\n",
       "      <td>1.529603</td>\n",
       "      <td>1.486731</td>\n",
       "      <td>1.353248</td>\n",
       "      <td>1.987876</td>\n",
       "      <td>...</td>\n",
       "      <td>0.972008</td>\n",
       "      <td>0.920309</td>\n",
       "      <td>0.986736</td>\n",
       "      <td>0.727137</td>\n",
       "      <td>1.459654</td>\n",
       "      <td>0.973967</td>\n",
       "      <td>1.111598</td>\n",
       "      <td>0.999072</td>\n",
       "      <td>2.303379</td>\n",
       "      <td>1.360532</td>\n",
       "    </tr>\n",
       "    <tr>\n",
       "      <th>min</th>\n",
       "      <td>1.000000</td>\n",
       "      <td>1.000000</td>\n",
       "      <td>1.000000</td>\n",
       "      <td>1.000000</td>\n",
       "      <td>1.000000</td>\n",
       "      <td>1.000000</td>\n",
       "      <td>1.000000</td>\n",
       "      <td>1.000000</td>\n",
       "      <td>1.000000</td>\n",
       "      <td>1.000000</td>\n",
       "      <td>...</td>\n",
       "      <td>0.000000</td>\n",
       "      <td>0.000000</td>\n",
       "      <td>0.000000</td>\n",
       "      <td>0.000000</td>\n",
       "      <td>1.000000</td>\n",
       "      <td>1.000000</td>\n",
       "      <td>1.000000</td>\n",
       "      <td>1.000000</td>\n",
       "      <td>1.000000</td>\n",
       "      <td>1.000000</td>\n",
       "    </tr>\n",
       "    <tr>\n",
       "      <th>25%</th>\n",
       "      <td>2.000000</td>\n",
       "      <td>1.000000</td>\n",
       "      <td>2.000000</td>\n",
       "      <td>2.000000</td>\n",
       "      <td>1.000000</td>\n",
       "      <td>3.000000</td>\n",
       "      <td>2.000000</td>\n",
       "      <td>2.000000</td>\n",
       "      <td>2.000000</td>\n",
       "      <td>2.000000</td>\n",
       "      <td>...</td>\n",
       "      <td>1.000000</td>\n",
       "      <td>2.000000</td>\n",
       "      <td>1.000000</td>\n",
       "      <td>0.000000</td>\n",
       "      <td>1.000000</td>\n",
       "      <td>3.000000</td>\n",
       "      <td>3.000000</td>\n",
       "      <td>3.000000</td>\n",
       "      <td>4.000000</td>\n",
       "      <td>2.000000</td>\n",
       "    </tr>\n",
       "    <tr>\n",
       "      <th>50%</th>\n",
       "      <td>3.000000</td>\n",
       "      <td>2.000000</td>\n",
       "      <td>4.000000</td>\n",
       "      <td>3.000000</td>\n",
       "      <td>3.000000</td>\n",
       "      <td>3.000000</td>\n",
       "      <td>3.000000</td>\n",
       "      <td>3.000000</td>\n",
       "      <td>3.000000</td>\n",
       "      <td>4.000000</td>\n",
       "      <td>...</td>\n",
       "      <td>2.000000</td>\n",
       "      <td>3.000000</td>\n",
       "      <td>2.000000</td>\n",
       "      <td>1.000000</td>\n",
       "      <td>1.000000</td>\n",
       "      <td>4.000000</td>\n",
       "      <td>3.000000</td>\n",
       "      <td>3.000000</td>\n",
       "      <td>5.000000</td>\n",
       "      <td>3.000000</td>\n",
       "    </tr>\n",
       "    <tr>\n",
       "      <th>75%</th>\n",
       "      <td>4.000000</td>\n",
       "      <td>2.000000</td>\n",
       "      <td>5.000000</td>\n",
       "      <td>4.000000</td>\n",
       "      <td>4.000000</td>\n",
       "      <td>5.000000</td>\n",
       "      <td>5.000000</td>\n",
       "      <td>4.000000</td>\n",
       "      <td>4.000000</td>\n",
       "      <td>6.000000</td>\n",
       "      <td>...</td>\n",
       "      <td>3.000000</td>\n",
       "      <td>3.000000</td>\n",
       "      <td>2.000000</td>\n",
       "      <td>1.000000</td>\n",
       "      <td>3.000000</td>\n",
       "      <td>4.000000</td>\n",
       "      <td>4.000000</td>\n",
       "      <td>4.000000</td>\n",
       "      <td>7.000000</td>\n",
       "      <td>4.000000</td>\n",
       "    </tr>\n",
       "    <tr>\n",
       "      <th>max</th>\n",
       "      <td>4.000000</td>\n",
       "      <td>2.000000</td>\n",
       "      <td>6.000000</td>\n",
       "      <td>5.000000</td>\n",
       "      <td>5.000000</td>\n",
       "      <td>5.000000</td>\n",
       "      <td>5.000000</td>\n",
       "      <td>5.000000</td>\n",
       "      <td>5.000000</td>\n",
       "      <td>6.000000</td>\n",
       "      <td>...</td>\n",
       "      <td>4.000000</td>\n",
       "      <td>4.000000</td>\n",
       "      <td>3.000000</td>\n",
       "      <td>2.000000</td>\n",
       "      <td>5.000000</td>\n",
       "      <td>5.000000</td>\n",
       "      <td>5.000000</td>\n",
       "      <td>5.000000</td>\n",
       "      <td>9.000000</td>\n",
       "      <td>5.000000</td>\n",
       "    </tr>\n",
       "  </tbody>\n",
       "</table>\n",
       "<p>8 rows × 75 columns</p>\n",
       "</div>"
      ],
      "text/plain": [
       "       ALTERSKATEGORIE_GROB      ANREDE_KZ  CJT_GESAMTTYP  FINANZ_MINIMALIST  \\\n",
       "count         888340.000000  891221.000000  886367.000000      891221.000000   \n",
       "mean               2.757217       1.522098       3.632838           3.074528   \n",
       "std                1.009951       0.499512       1.595021           1.321055   \n",
       "min                1.000000       1.000000       1.000000           1.000000   \n",
       "25%                2.000000       1.000000       2.000000           2.000000   \n",
       "50%                3.000000       2.000000       4.000000           3.000000   \n",
       "75%                4.000000       2.000000       5.000000           4.000000   \n",
       "max                4.000000       2.000000       6.000000           5.000000   \n",
       "\n",
       "       FINANZ_SPARER  FINANZ_VORSORGER  FINANZ_ANLEGER  FINANZ_UNAUFFAELLIGER  \\\n",
       "count  891221.000000     891221.000000   891221.000000          891221.000000   \n",
       "mean        2.821039          3.401106        3.033328               2.874167   \n",
       "std         1.464749          1.322134        1.529603               1.486731   \n",
       "min         1.000000          1.000000        1.000000               1.000000   \n",
       "25%         1.000000          3.000000        2.000000               2.000000   \n",
       "50%         3.000000          3.000000        3.000000               3.000000   \n",
       "75%         4.000000          5.000000        5.000000               4.000000   \n",
       "max         5.000000          5.000000        5.000000               5.000000   \n",
       "\n",
       "       FINANZ_HAUSBAUER      FINANZTYP      ...           PLZ8_ANTG1  \\\n",
       "count     891221.000000  891221.000000      ...        774706.000000   \n",
       "mean           3.075121       3.790586      ...             2.253330   \n",
       "std            1.353248       1.987876      ...             0.972008   \n",
       "min            1.000000       1.000000      ...             0.000000   \n",
       "25%            2.000000       2.000000      ...             1.000000   \n",
       "50%            3.000000       4.000000      ...             2.000000   \n",
       "75%            4.000000       6.000000      ...             3.000000   \n",
       "max            5.000000       6.000000      ...             4.000000   \n",
       "\n",
       "          PLZ8_ANTG2     PLZ8_ANTG3     PLZ8_ANTG4    PLZ8_BAUMAX  \\\n",
       "count  774706.000000  774706.000000  774706.000000  774706.000000   \n",
       "mean        2.801858       1.595426       0.699166       1.943913   \n",
       "std         0.920309       0.986736       0.727137       1.459654   \n",
       "min         0.000000       0.000000       0.000000       1.000000   \n",
       "25%         2.000000       1.000000       0.000000       1.000000   \n",
       "50%         3.000000       2.000000       1.000000       1.000000   \n",
       "75%         3.000000       2.000000       1.000000       3.000000   \n",
       "max         4.000000       3.000000       2.000000       5.000000   \n",
       "\n",
       "            PLZ8_HHZ       PLZ8_GBZ         ARBEIT    ORTSGR_KLS9  \\\n",
       "count  774706.000000  774706.000000  793846.000000  793947.000000   \n",
       "mean        3.612821       3.381087       3.166686       5.293389   \n",
       "std         0.973967       1.111598       0.999072       2.303379   \n",
       "min         1.000000       1.000000       1.000000       1.000000   \n",
       "25%         3.000000       3.000000       3.000000       4.000000   \n",
       "50%         4.000000       3.000000       3.000000       5.000000   \n",
       "75%         4.000000       4.000000       4.000000       7.000000   \n",
       "max         5.000000       5.000000       5.000000       9.000000   \n",
       "\n",
       "            RELAT_AB  \n",
       "count  793846.000000  \n",
       "mean        3.071033  \n",
       "std         1.360532  \n",
       "min         1.000000  \n",
       "25%         2.000000  \n",
       "50%         3.000000  \n",
       "75%         4.000000  \n",
       "max         5.000000  \n",
       "\n",
       "[8 rows x 75 columns]"
      ]
     },
     "execution_count": 87,
     "metadata": {},
     "output_type": "execute_result"
    }
   ],
   "source": [
    "my_azdias.describe()"
   ]
  },
  {
   "cell_type": "markdown",
   "metadata": {},
   "source": [
    "#### Discussion 1.1.2: Assess Missing Data in Each Column\n",
    "\n",
    "(Double click this cell and replace this text with your own text, reporting your observations regarding the amount of missing data in each column. Are there any patterns in missing values? Which columns were removed from the dataset?)  \n",
    "*I draw the plot about the missing data in each column.The missing data of most attributes is less than 200000，I remove the columns which is nan values more than 20000.*"
   ]
  },
  {
   "cell_type": "markdown",
   "metadata": {},
   "source": [
    "#### Step 1.1.3: Assess Missing Data in Each Row\n",
    "\n",
    "Now, you'll perform a similar assessment for the rows of the dataset. How much data is missing in each row? As with the columns, you should see some groups of points that have a very different numbers of missing values. Divide the data into two subsets: one for data points that are above some threshold for missing values, and a second subset for points below that threshold.\n",
    "\n",
    "In order to know what to do with the outlier rows, we should see if the distribution of data values on columns that are not missing data (or are missing very little data) are similar or different between the two groups. Select at least five of these columns and compare the distribution of values.\n",
    "- You can use seaborn's [`countplot()`](https://seaborn.pydata.org/generated/seaborn.countplot.html) function to create a bar chart of code frequencies and matplotlib's [`subplot()`](https://matplotlib.org/api/_as_gen/matplotlib.pyplot.subplot.html) function to put bar charts for the two subplots side by side.\n",
    "- To reduce repeated code, you might want to write a function that can perform this comparison, taking as one of its arguments a column to be compared.\n",
    "\n",
    "Depending on what you observe in your comparison, this will have implications on how you approach your conclusions later in the analysis. If the distributions of non-missing features look similar between the data with many missing values and the data with few or no missing values, then we could argue that simply dropping those points from the analysis won't present a major issue. On the other hand, if the data with many missing values looks very different from the data with few or no missing values, then we should make a note on those data as special. Make sure you report your observations in the discussion section. **Either way, you should continue your analysis below using just the subset of the data with few or no missing values.**"
   ]
  },
  {
   "cell_type": "code",
   "execution_count": 88,
   "metadata": {},
   "outputs": [
    {
     "name": "stdout",
     "output_type": "stream",
     "text": [
      "891221\n"
     ]
    }
   ],
   "source": [
    "print(len(my_azdias))"
   ]
  },
  {
   "cell_type": "code",
   "execution_count": 15,
   "metadata": {},
   "outputs": [
    {
     "name": "stdout",
     "output_type": "stream",
     "text": [
      "threshold is  75\n",
      "not missing row is  697109\n",
      "missing data row is  194112\n",
      "threshold is  74\n",
      "not missing row is  719624\n",
      "missing data row is  171597\n",
      "threshold is  73\n",
      "not missing row is  733395\n",
      "missing data row is  157826\n",
      "threshold is  72\n",
      "not missing row is  747109\n",
      "missing data row is  144112\n",
      "threshold is  71\n",
      "not missing row is  771701\n",
      "missing data row is  119520\n",
      "threshold is  70\n",
      "not missing row is  774743\n",
      "missing data row is  116478\n",
      "threshold is  69\n",
      "not missing row is  780153\n",
      "missing data row is  111068\n",
      "threshold is  68\n",
      "not missing row is  781280\n",
      "missing data row is  109941\n",
      "threshold is  67\n",
      "not missing row is  782046\n",
      "missing data row is  109175\n",
      "threshold is  66\n",
      "not missing row is  785301\n",
      "missing data row is  105920\n",
      "threshold is  65\n",
      "not missing row is  787544\n",
      "missing data row is  103677\n",
      "threshold is  64\n",
      "not missing row is  792287\n",
      "missing data row is  98934\n",
      "threshold is  63\n",
      "not missing row is  794792\n",
      "missing data row is  96429\n",
      "threshold is  62\n",
      "not missing row is  795469\n",
      "missing data row is  95752\n",
      "threshold is  61\n",
      "not missing row is  795897\n",
      "missing data row is  95324\n",
      "threshold is  60\n",
      "not missing row is  797077\n",
      "missing data row is  94144\n",
      "threshold is  59\n",
      "not missing row is  797426\n",
      "missing data row is  93795\n",
      "threshold is  58\n",
      "not missing row is  797576\n",
      "missing data row is  93645\n",
      "threshold is  57\n",
      "not missing row is  797705\n",
      "missing data row is  93516\n",
      "threshold is  56\n",
      "not missing row is  797837\n",
      "missing data row is  93384\n",
      "threshold is  55\n",
      "not missing row is  797906\n",
      "missing data row is  93315\n",
      "threshold is  54\n",
      "not missing row is  797961\n",
      "missing data row is  93260\n",
      "threshold is  53\n",
      "not missing row is  798020\n",
      "missing data row is  93201\n",
      "threshold is  52\n",
      "not missing row is  798044\n",
      "missing data row is  93177\n",
      "threshold is  51\n",
      "not missing row is  798049\n",
      "missing data row is  93172\n",
      "threshold is  50\n",
      "not missing row is  798061\n",
      "missing data row is  93160\n",
      "threshold is  49\n",
      "not missing row is  798067\n",
      "missing data row is  93154\n",
      "threshold is  48\n",
      "not missing row is  798070\n",
      "missing data row is  93151\n",
      "threshold is  47\n",
      "not missing row is  798276\n",
      "missing data row is  92945\n",
      "threshold is  46\n",
      "not missing row is  801261\n",
      "missing data row is  89960\n",
      "threshold is  45\n",
      "not missing row is  812077\n",
      "missing data row is  79144\n",
      "threshold is  44\n",
      "not missing row is  815988\n",
      "missing data row is  75233\n",
      "threshold is  43\n",
      "not missing row is  816072\n",
      "missing data row is  75149\n",
      "threshold is  42\n",
      "not missing row is  816610\n",
      "missing data row is  74611\n",
      "threshold is  41\n",
      "not missing row is  817031\n",
      "missing data row is  74190\n",
      "threshold is  40\n",
      "not missing row is  817108\n",
      "missing data row is  74113\n",
      "threshold is  39\n",
      "not missing row is  817245\n",
      "missing data row is  73976\n",
      "threshold is  38\n",
      "not missing row is  817601\n",
      "missing data row is  73620\n",
      "threshold is  37\n",
      "not missing row is  817622\n",
      "missing data row is  73599\n",
      "threshold is  36\n",
      "not missing row is  844991\n",
      "missing data row is  46230\n",
      "threshold is  35\n",
      "not missing row is  845146\n",
      "missing data row is  46075\n",
      "threshold is  34\n",
      "not missing row is  845640\n",
      "missing data row is  45581\n",
      "threshold is  33\n",
      "not missing row is  845640\n",
      "missing data row is  45581\n",
      "threshold is  32\n",
      "not missing row is  891218\n",
      "missing data row is  3\n",
      "threshold is  31\n",
      "not missing row is  891219\n",
      "missing data row is  2\n",
      "threshold is  30\n",
      "not missing row is  891221\n",
      "missing data row is  0\n",
      "threshold is  29\n",
      "not missing row is  891221\n",
      "missing data row is  0\n",
      "threshold is  28\n",
      "not missing row is  891221\n",
      "missing data row is  0\n",
      "threshold is  27\n",
      "not missing row is  891221\n",
      "missing data row is  0\n",
      "threshold is  26\n",
      "not missing row is  891221\n",
      "missing data row is  0\n",
      "threshold is  25\n",
      "not missing row is  891221\n",
      "missing data row is  0\n",
      "threshold is  24\n",
      "not missing row is  891221\n",
      "missing data row is  0\n",
      "threshold is  23\n",
      "not missing row is  891221\n",
      "missing data row is  0\n",
      "threshold is  22\n",
      "not missing row is  891221\n",
      "missing data row is  0\n",
      "threshold is  21\n",
      "not missing row is  891221\n",
      "missing data row is  0\n",
      "threshold is  20\n",
      "not missing row is  891221\n",
      "missing data row is  0\n",
      "threshold is  19\n",
      "not missing row is  891221\n",
      "missing data row is  0\n",
      "threshold is  18\n",
      "not missing row is  891221\n",
      "missing data row is  0\n",
      "threshold is  17\n",
      "not missing row is  891221\n",
      "missing data row is  0\n",
      "threshold is  16\n",
      "not missing row is  891221\n",
      "missing data row is  0\n",
      "threshold is  15\n",
      "not missing row is  891221\n",
      "missing data row is  0\n",
      "threshold is  14\n",
      "not missing row is  891221\n",
      "missing data row is  0\n",
      "threshold is  13\n",
      "not missing row is  891221\n",
      "missing data row is  0\n",
      "threshold is  12\n",
      "not missing row is  891221\n",
      "missing data row is  0\n",
      "threshold is  11\n",
      "not missing row is  891221\n",
      "missing data row is  0\n",
      "threshold is  10\n",
      "not missing row is  891221\n",
      "missing data row is  0\n",
      "threshold is  9\n",
      "not missing row is  891221\n",
      "missing data row is  0\n",
      "threshold is  8\n",
      "not missing row is  891221\n",
      "missing data row is  0\n",
      "threshold is  7\n",
      "not missing row is  891221\n",
      "missing data row is  0\n",
      "threshold is  6\n",
      "not missing row is  891221\n",
      "missing data row is  0\n",
      "threshold is  5\n",
      "not missing row is  891221\n",
      "missing data row is  0\n",
      "threshold is  4\n",
      "not missing row is  891221\n",
      "missing data row is  0\n",
      "threshold is  3\n",
      "not missing row is  891221\n",
      "missing data row is  0\n",
      "threshold is  2\n",
      "not missing row is  891221\n",
      "missing data row is  0\n",
      "threshold is  1\n",
      "not missing row is  891221\n",
      "missing data row is  0\n",
      "threshold is  0\n",
      "not missing row is  891221\n",
      "missing data row is  0\n"
     ]
    }
   ],
   "source": [
    "# How much data is missing in each row of the dataset?\n",
    "# find threshold\n",
    "for t in range(76):\n",
    "    threshold=75-t#\n",
    "    print('threshold is ',threshold)\n",
    "    print('not missing row is ',len(my_azdias.dropna(axis=0,how='any',thresh=threshold)))\n",
    "    print('missing data row is ',len(my_azdias)-len(my_azdias.dropna(axis=0,how='any',thresh=threshold)))"
   ]
  },
  {
   "cell_type": "markdown",
   "metadata": {},
   "source": [
    "The threshold that I chosen is 65"
   ]
  },
  {
   "cell_type": "code",
   "execution_count": 89,
   "metadata": {},
   "outputs": [
    {
     "name": "stdout",
     "output_type": "stream",
     "text": [
      "miss data row is  47905 not miss data row is  787544\n"
     ]
    }
   ],
   "source": [
    "# Write code to divide the data into two subsets based on the number of missing\n",
    "# values in each row.\n",
    "nomiss_azdias=my_azdias.dropna(axis=0,how='any',thresh=65)\n",
    "nomiss_azdias=nomiss_azdias.reset_index(drop = True)\n",
    "miss_azidas=my_azdias.append(nomiss_azdias).drop_duplicates(keep=False)\n",
    "miss_azidas=miss_azidas.reset_index(drop = True)\n",
    "print('miss data row is ',len(miss_azidas),'not miss data row is ',len(nomiss_azdias))"
   ]
  },
  {
   "cell_type": "code",
   "execution_count": 90,
   "metadata": {},
   "outputs": [
    {
     "data": {
      "text/plain": [
       "ZABEOTYP                      0\n",
       "SEMIO_REL                     0\n",
       "SEMIO_MAT                     0\n",
       "SEMIO_VERT                    0\n",
       "SEMIO_LUST                    0\n",
       "SEMIO_ERL                     0\n",
       "SEMIO_KULT                    0\n",
       "SEMIO_RAT                     0\n",
       "SEMIO_KRIT                    0\n",
       "SEMIO_DOM                     0\n",
       "SEMIO_KAEM                    0\n",
       "GREEN_AVANTGARDE              0\n",
       "SEMIO_PFLICHT                 0\n",
       "FINANZTYP                     0\n",
       "FINANZ_HAUSBAUER              0\n",
       "FINANZ_UNAUFFAELLIGER         0\n",
       "FINANZ_ANLEGER                0\n",
       "FINANZ_VORSORGER              0\n",
       "FINANZ_SPARER                 0\n",
       "FINANZ_MINIMALIST             0\n",
       "SEMIO_TRADV                   0\n",
       "ANREDE_KZ                     0\n",
       "SEMIO_SOZ                     0\n",
       "SEMIO_FAM                     0\n",
       "ALTERSKATEGORIE_GROB       2881\n",
       "LP_STATUS_GROB             4854\n",
       "LP_STATUS_FEIN             4854\n",
       "ONLINE_AFFINITAET          4854\n",
       "RETOURTYP_BK_S             4854\n",
       "GFK_URLAUBERTYP            4854\n",
       "                          ...  \n",
       "ORTSGR_KLS9               97274\n",
       "ARBEIT                    97375\n",
       "RELAT_AB                  97375\n",
       "LP_LEBENSPHASE_FEIN       97632\n",
       "CAMEO_DEUG_2015           99352\n",
       "CAMEO_DEU_2015            99352\n",
       "CAMEO_INTL_2015           99352\n",
       "ANZ_HAUSHALTE_AKTIV       99611\n",
       "KBA13_ANZAHL_PKW         105800\n",
       "PRAEGENDE_JUGENDJAHRE    108164\n",
       "NATIONALITAET_KZ         108315\n",
       "VERS_TYP                 111196\n",
       "SHOPPER_TYP              111196\n",
       "HEALTH_TYP               111196\n",
       "PLZ8_GBZ                 116515\n",
       "PLZ8_HHZ                 116515\n",
       "PLZ8_BAUMAX              116515\n",
       "PLZ8_ANTG4               116515\n",
       "PLZ8_ANTG3               116515\n",
       "PLZ8_ANTG1               116515\n",
       "PLZ8_ANTG2               116515\n",
       "KBA05_GBZ                133324\n",
       "KBA05_ANTG1              133324\n",
       "KBA05_ANTG2              133324\n",
       "KBA05_ANTG3              133324\n",
       "KBA05_ANTG4              133324\n",
       "MOBI_REGIO               133324\n",
       "W_KEIT_KIND_HH           147988\n",
       "REGIOTYP                 158064\n",
       "KKK                      158064\n",
       "Length: 79, dtype: int64"
      ]
     },
     "execution_count": 90,
     "metadata": {},
     "output_type": "execute_result"
    }
   ],
   "source": [
    "# Compare the distribution of values for at least five columns where there are\n",
    "# no or few missing values, between the two subsets.\n",
    "(my_azdias.shape[0] - my_azdias.count()).sort_values()"
   ]
  },
  {
   "cell_type": "code",
   "execution_count": 91,
   "metadata": {},
   "outputs": [
    {
     "name": "stdout",
     "output_type": "stream",
     "text": [
      "       ZABEOTYP  GFK_URLAUBERTYP  ANREDE_KZ  ALTERSKATEGORIE_GROB  \\\n",
      "0             3             10.0          1                   2.0   \n",
      "1             1              2.0          1                   3.0   \n",
      "2             3             11.0          2                   3.0   \n",
      "3             3              7.0          2                   2.0   \n",
      "4             3              1.0          2                   NaN   \n",
      "5             3              9.0          1                   2.0   \n",
      "6             3              1.0          2                   3.0   \n",
      "7             3             11.0          2                   3.0   \n",
      "8             3              8.0          2                   3.0   \n",
      "9             4              1.0          2                   1.0   \n",
      "10            3             12.0          2                   2.0   \n",
      "11            2              NaN          1                   3.0   \n",
      "12            2              8.0          2                   2.0   \n",
      "13            3              2.0          2                   3.0   \n",
      "14            3             10.0          1                   3.0   \n",
      "15            4              9.0          1                   3.0   \n",
      "16            1              2.0          1                   3.0   \n",
      "17            4             10.0          2                   2.0   \n",
      "18            4             10.0          2                   2.0   \n",
      "19            1             12.0          2                   3.0   \n",
      "20            3             10.0          1                   3.0   \n",
      "21            4             12.0          1                   1.0   \n",
      "22            3              4.0          2                   2.0   \n",
      "23            5              1.0          2                   1.0   \n",
      "24            3              9.0          2                   3.0   \n",
      "25            3              5.0          1                   2.0   \n",
      "26            2             10.0          2                   4.0   \n",
      "27            3              7.0          2                   4.0   \n",
      "28            6              8.0          2                   2.0   \n",
      "29            3              7.0          2                   4.0   \n",
      "...         ...              ...        ...                   ...   \n",
      "47875         3             11.0          1                   4.0   \n",
      "47876         3              8.0          2                   3.0   \n",
      "47877         6              2.0          2                   2.0   \n",
      "47878         4              9.0          2                   2.0   \n",
      "47879         4              9.0          1                   3.0   \n",
      "47880         3             12.0          2                   3.0   \n",
      "47881         4              2.0          2                   2.0   \n",
      "47882         3             12.0          2                   3.0   \n",
      "47883         5              8.0          2                   2.0   \n",
      "47884         6             12.0          1                   1.0   \n",
      "47885         3             11.0          1                   3.0   \n",
      "47886         3              9.0          1                   2.0   \n",
      "47887         3              8.0          2                   3.0   \n",
      "47888         4             12.0          2                   3.0   \n",
      "47889         3              9.0          2                   1.0   \n",
      "47890         3              4.0          2                   4.0   \n",
      "47891         4              9.0          1                   1.0   \n",
      "47892         3              3.0          2                   4.0   \n",
      "47893         3             12.0          1                   4.0   \n",
      "47894         4             12.0          2                   1.0   \n",
      "47895         4              2.0          1                   1.0   \n",
      "47896         4              2.0          1                   3.0   \n",
      "47897         3             12.0          2                   4.0   \n",
      "47898         3              8.0          2                   4.0   \n",
      "47899         3             10.0          1                   2.0   \n",
      "47900         4              2.0          1                   3.0   \n",
      "47901         2             10.0          1                   3.0   \n",
      "47902         3             10.0          2                   3.0   \n",
      "47903         4              9.0          2                   1.0   \n",
      "47904         3              2.0          1                   4.0   \n",
      "\n",
      "       LP_STATUS_GROB  \n",
      "0                 1.0  \n",
      "1                 4.0  \n",
      "2                 2.0  \n",
      "3                 4.0  \n",
      "4                 1.0  \n",
      "5                 3.0  \n",
      "6                 2.0  \n",
      "7                 2.0  \n",
      "8                 1.0  \n",
      "9                 1.0  \n",
      "10                1.0  \n",
      "11                NaN  \n",
      "12                5.0  \n",
      "13                1.0  \n",
      "14                4.0  \n",
      "15                1.0  \n",
      "16                4.0  \n",
      "17                1.0  \n",
      "18                3.0  \n",
      "19                5.0  \n",
      "20                1.0  \n",
      "21                2.0  \n",
      "22                1.0  \n",
      "23                2.0  \n",
      "24                2.0  \n",
      "25                4.0  \n",
      "26                4.0  \n",
      "27                4.0  \n",
      "28                1.0  \n",
      "29                4.0  \n",
      "...               ...  \n",
      "47875             2.0  \n",
      "47876             1.0  \n",
      "47877             4.0  \n",
      "47878             1.0  \n",
      "47879             1.0  \n",
      "47880             1.0  \n",
      "47881             2.0  \n",
      "47882             1.0  \n",
      "47883             1.0  \n",
      "47884             2.0  \n",
      "47885             4.0  \n",
      "47886             2.0  \n",
      "47887             1.0  \n",
      "47888             1.0  \n",
      "47889             1.0  \n",
      "47890             1.0  \n",
      "47891             1.0  \n",
      "47892             1.0  \n",
      "47893             4.0  \n",
      "47894             1.0  \n",
      "47895             4.0  \n",
      "47896             2.0  \n",
      "47897             1.0  \n",
      "47898             1.0  \n",
      "47899             5.0  \n",
      "47900             4.0  \n",
      "47901             4.0  \n",
      "47902             2.0  \n",
      "47903             2.0  \n",
      "47904             2.0  \n",
      "\n",
      "[47905 rows x 5 columns]\n"
     ]
    }
   ],
   "source": [
    "# Compare attribute 'ZABEOTYP','GFK_URLAUBERTYP','ANREDE_KZ','ALTERSKATEGORIE_GROB','LP_STATUS_GROB'\n",
    "compare_list=['ZABEOTYP','GFK_URLAUBERTYP','ANREDE_KZ','ALTERSKATEGORIE_GROB','LP_STATUS_GROB']\n",
    "print(miss_azidas[compare_list])"
   ]
  },
  {
   "cell_type": "code",
   "execution_count": 92,
   "metadata": {},
   "outputs": [],
   "source": [
    "\n",
    "def compare_dataset(attribute):\n",
    "    df1=pd.DataFrame((miss_azidas[attribute].value_counts() / miss_azidas[attribute].count()).sort_index())\n",
    "    df1['value']=df1.index\n",
    "    \n",
    "    df2=pd.DataFrame((nomiss_azdias[attribute].value_counts() / nomiss_azdias[attribute].count()).sort_index())\n",
    "    df2['value']=df2.index\n",
    "    # res = pd.concat([df1, df2], axis=0, ignore_index=True)\n",
    "    # print(res)\n",
    "\n",
    "    plt.subplots_adjust(left=None, bottom=None, right=None, top=None,\n",
    "                wspace=None, hspace=0.6)\n",
    "\n",
    "    ax1=plt.subplot(211)\n",
    "    plt.bar(df1['value'],df1[attribute])\n",
    "    ax1.set_title('Missing dataset of '+attribute)\n",
    "    ax1.set_xlabel('values')\n",
    "    ax1.set_ylabel('the distribution of values')\n",
    "\n",
    "    ax2=plt.subplot(212)\n",
    "    plt.bar(df2['value'],df2[attribute])\n",
    "    ax2.set_title('Not Missing dataset of '+attribute)\n",
    "    ax2.set_xlabel('value')\n",
    "    ax2.set_ylabel('the distribution of values')\n",
    "    plt.show()"
   ]
  },
  {
   "cell_type": "code",
   "execution_count": 93,
   "metadata": {},
   "outputs": [
    {
     "data": {
      "image/png": "[encoded data removed]",
      "text/plain": [
       "<Figure size 432x288 with 2 Axes>"
      ]
     },
     "metadata": {},
     "output_type": "display_data"
    },
    {
     "data": {
      "image/png": "[encoded data removed]",
      "text/plain": [
       "<Figure size 432x288 with 2 Axes>"
      ]
     },
     "metadata": {},
     "output_type": "display_data"
    },
    {
     "data": {
      "image/png": "[encoded data removed]",
      "text/plain": [
       "<Figure size 432x288 with 2 Axes>"
      ]
     },
     "metadata": {},
     "output_type": "display_data"
    },
    {
     "data": {
      "image/png": "[encoded data removed]",
      "text/plain": [
       "<Figure size 432x288 with 2 Axes>"
      ]
     },
     "metadata": {},
     "output_type": "display_data"
    },
    {
     "data": {
      "image/png": "[encoded data removed]",
      "text/plain": [
       "<Figure size 432x288 with 2 Axes>"
      ]
     },
     "metadata": {},
     "output_type": "display_data"
    }
   ],
   "source": [
    "for l in compare_list:\n",
    "    compare_dataset(l)"
   ]
  },
  {
   "cell_type": "markdown",
   "metadata": {},
   "source": [
    "#### Discussion 1.1.3: Assess Missing Data in Each Row\n",
    "\n",
    "(Double-click this cell and replace this text with your own text, reporting your observations regarding missing data in rows. Are the data with lots of missing values are qualitatively different from data with few or no missing values?)  \n",
    "*I found the different between missing dataset and not missing dataset with drawing the distribution plot that was acceptable.*"
   ]
  },
  {
   "cell_type": "markdown",
   "metadata": {},
   "source": [
    "### Step 1.2: Select and Re-Encode Features\n",
    "\n",
    "Checking for missing data isn't the only way in which you can prepare a dataset for analysis. Since the unsupervised learning techniques to be used will only work on data that is encoded numerically, you need to make a few encoding changes or additional assumptions to be able to make progress. In addition, while almost all of the values in the dataset are encoded using numbers, not all of them represent numeric values. Check the third column of the feature summary (`feat_info`) for a summary of types of measurement.\n",
    "- For numeric and interval data, these features can be kept without changes.\n",
    "- Most of the variables in the dataset are ordinal in nature. While ordinal values may technically be non-linear in spacing, make the simplifying assumption that the ordinal variables can be treated as being interval in nature (that is, kept without any changes).\n",
    "- Special handling may be necessary for the remaining two variable types: categorical, and 'mixed'.\n",
    "\n",
    "In the first two parts of this sub-step, you will perform an investigation of the categorical and mixed-type features and make a decision on each of them, whether you will keep, drop, or re-encode each. Then, in the last part, you will create a new data frame with only the selected and engineered columns.\n",
    "\n",
    "Data wrangling is often the trickiest part of the data analysis process, and there's a lot of it to be done here. But stick with it: once you're done with this step, you'll be ready to get to the machine learning parts of the project!"
   ]
  },
  {
   "cell_type": "code",
   "execution_count": 94,
   "metadata": {},
   "outputs": [
    {
     "name": "stdout",
     "output_type": "stream",
     "text": [
      "ordinal        49\n",
      "categorical    18\n",
      "mixed           6\n",
      "numeric         6\n",
      "Name: type, dtype: int64\n"
     ]
    }
   ],
   "source": [
    "# How many features are there of each data type?\n",
    "# print(nomiss_azdias.dtypes.value_counts())\n",
    "print(my_feat_info['type'].value_counts())"
   ]
  },
  {
   "cell_type": "markdown",
   "metadata": {},
   "source": [
    "#### Step 1.2.1: Re-Encode Categorical Features\n",
    "\n",
    "For categorical data, you would ordinarily need to encode the levels as dummy variables. Depending on the number of categories, perform one of the following:\n",
    "- For binary (two-level) categoricals that take numeric values, you can keep them without needing to do anything.\n",
    "- There is one binary variable that takes on non-numeric values. For this one, you need to re-encode the values as numbers or create a dummy variable.\n",
    "- For multi-level categoricals (three or more values), you can choose to encode the values using multiple dummy variables (e.g. via [OneHotEncoder](http://scikit-learn.org/stable/modules/generated/sklearn.preprocessing.OneHotEncoder.html)), or (to keep things straightforward) just drop them from the analysis. As always, document your choices in the Discussion section."
   ]
  },
  {
   "cell_type": "code",
   "execution_count": 95,
   "metadata": {},
   "outputs": [
    {
     "name": "stdout",
     "output_type": "stream",
     "text": [
      "binary categorical:  ['ANREDE_KZ', 'GREEN_AVANTGARDE', 'SOHO_KZ', 'VERS_TYP', 'OST_WEST_KZ'] \n",
      " multi-level categoricals:  ['CJT_GESAMTTYP', 'FINANZTYP', 'GFK_URLAUBERTYP', 'LP_FAMILIE_FEIN', 'LP_FAMILIE_GROB', 'LP_STATUS_FEIN', 'LP_STATUS_GROB', 'NATIONALITAET_KZ', 'SHOPPER_TYP', 'ZABEOTYP', 'GEBAEUDETYP', 'CAMEO_DEUG_2015', 'CAMEO_DEU_2015']\n"
     ]
    }
   ],
   "source": [
    "# Assess categorical variables: which are binary, which are multi-level, and\n",
    "# which one needs to be re-encoded?\n",
    "binary_list=[]\n",
    "multi_list=[]\n",
    "categorical_list=my_feat_info[my_feat_info['type']=='categorical']['attribute']\n",
    "for i in categorical_list:\n",
    "    n=nomiss_azdias[i].value_counts()\n",
    "    if len(n)==2:\n",
    "        binary_list.append(i)\n",
    "    if len(n)>2:\n",
    "        multi_list.append(i)\n",
    "print('binary categorical: ',binary_list,'\\n','multi-level categoricals: ',multi_list)"
   ]
  },
  {
   "cell_type": "code",
   "execution_count": 96,
   "metadata": {},
   "outputs": [
    {
     "name": "stdout",
     "output_type": "stream",
     "text": [
      "2    410568\n",
      "1    376976\n",
      "Name: ANREDE_KZ, dtype: int64\n",
      "0    614144\n",
      "1    173400\n",
      "Name: GREEN_AVANTGARDE, dtype: int64\n",
      "0.0    780923\n",
      "1.0      6621\n",
      "Name: SOHO_KZ, dtype: int64\n",
      "2.0    392287\n",
      "1.0    359725\n",
      "Name: VERS_TYP, dtype: int64\n",
      "W    620787\n",
      "O    166757\n",
      "Name: OST_WEST_KZ, dtype: int64\n"
     ]
    }
   ],
   "source": [
    "# Re-encode categorical variable(s) to be kept in the analysis.\n",
    "# binaray_list:\n",
    "for i in binary_list:\n",
    "    print(nomiss_azdias[i].value_counts())"
   ]
  },
  {
   "cell_type": "code",
   "execution_count": 97,
   "metadata": {},
   "outputs": [],
   "source": [
    "# ANREDE_KZ\n",
    "nomiss_azdias.loc[nomiss_azdias['ANREDE_KZ'] ==1,'ANREDE_KZ']=0\n",
    "nomiss_azdias.loc[nomiss_azdias['ANREDE_KZ'] ==2,'ANREDE_KZ']=1\n",
    "# # VERS_TYP\n",
    "nomiss_azdias.loc[nomiss_azdias['VERS_TYP'] ==1.0,'VERS_TYP']=0\n",
    "nomiss_azdias.loc[nomiss_azdias['VERS_TYP'] ==2.0,'VERS_TYP']=1\n",
    "# # OST_WEST_KZ\n",
    "nomiss_azdias.loc[nomiss_azdias['OST_WEST_KZ'] =='W','OST_WEST_KZ']=1\n",
    "nomiss_azdias.loc[nomiss_azdias['OST_WEST_KZ'] =='O','OST_WEST_KZ']=0"
   ]
  },
  {
   "cell_type": "code",
   "execution_count": 98,
   "metadata": {},
   "outputs": [
    {
     "name": "stdout",
     "output_type": "stream",
     "text": [
      "1    410568\n",
      "0    376976\n",
      "Name: ANREDE_KZ, dtype: int64\n",
      "0    614144\n",
      "1    173400\n",
      "Name: GREEN_AVANTGARDE, dtype: int64\n",
      "0.0    780923\n",
      "1.0      6621\n",
      "Name: SOHO_KZ, dtype: int64\n",
      "1.0    392287\n",
      "0.0    359725\n",
      "Name: VERS_TYP, dtype: int64\n",
      "1    620787\n",
      "0    166757\n",
      "Name: OST_WEST_KZ, dtype: int64\n"
     ]
    }
   ],
   "source": [
    "for i in binary_list:\n",
    "    print(nomiss_azdias[i].value_counts())"
   ]
  },
  {
   "cell_type": "code",
   "execution_count": 99,
   "metadata": {},
   "outputs": [
    {
     "name": "stdout",
     "output_type": "stream",
     "text": [
      "4.0    195445\n",
      "3.0    145030\n",
      "2.0    140428\n",
      "5.0    110108\n",
      "6.0    100017\n",
      "1.0     92221\n",
      "Name: CJT_GESAMTTYP, dtype: int64\n",
      "6    288034\n",
      "1    194408\n",
      "5    105447\n",
      "2    103343\n",
      "4     55468\n",
      "3     40844\n",
      "Name: FINANZTYP, dtype: int64\n",
      "12.0    127379\n",
      "10.0    101896\n",
      "8.0      82378\n",
      "11.0     74343\n",
      "5.0      70195\n",
      "4.0      60348\n",
      "9.0      56240\n",
      "3.0      53032\n",
      "1.0      50415\n",
      "2.0      41007\n",
      "7.0      40382\n",
      "6.0      25634\n",
      "Name: GFK_URLAUBERTYP, dtype: int64\n",
      "1.0     398081\n",
      "10.0    127869\n",
      "2.0      97036\n",
      "11.0     48404\n",
      "8.0      21506\n",
      "7.0      19019\n",
      "4.0      11395\n",
      "5.0      11059\n",
      "9.0      10348\n",
      "6.0       8011\n",
      "3.0       4485\n",
      "Name: LP_FAMILIE_FEIN, dtype: int64\n",
      "1.0    398081\n",
      "5.0    186621\n",
      "2.0     97036\n",
      "4.0     48536\n",
      "3.0     26939\n",
      "Name: LP_FAMILIE_GROB, dtype: int64\n",
      "1.0     205688\n",
      "9.0     133108\n",
      "2.0     110468\n",
      "10.0    110435\n",
      "4.0      73636\n",
      "3.0      68667\n",
      "6.0      28481\n",
      "5.0      26793\n",
      "8.0      16864\n",
      "7.0       9109\n",
      "Name: LP_STATUS_FEIN, dtype: int64\n",
      "1.0    316156\n",
      "2.0    169096\n",
      "4.0    149972\n",
      "5.0    110435\n",
      "3.0     37590\n",
      "Name: LP_STATUS_GROB, dtype: int64\n",
      "1.0    659611\n",
      "2.0     63016\n",
      "3.0     32108\n",
      "Name: NATIONALITAET_KZ, dtype: int64\n",
      "1.0    243470\n",
      "2.0    205312\n",
      "3.0    176349\n",
      "0.0    126881\n",
      "Name: SHOPPER_TYP, dtype: int64\n",
      "3    279067\n",
      "4    205709\n",
      "1    120984\n",
      "5     80131\n",
      "6     70279\n",
      "2     31374\n",
      "Name: ZABEOTYP, dtype: int64\n",
      "1.0    452468\n",
      "3.0    177030\n",
      "8.0    151958\n",
      "2.0      4624\n",
      "4.0       870\n",
      "6.0       593\n",
      "5.0         1\n",
      "Name: GEBAEUDETYP, dtype: int64\n",
      "8    134008\n",
      "9    107777\n",
      "6    105158\n",
      "4    102498\n",
      "3     84265\n",
      "2     82107\n",
      "7     77455\n",
      "5     54074\n",
      "1     35894\n",
      "Name: CAMEO_DEUG_2015, dtype: int64\n",
      "6B    56289\n",
      "8A    52301\n",
      "4C    47137\n",
      "2D    34760\n",
      "3C    34521\n",
      "7A    34183\n",
      "3D    33928\n",
      "8B    33300\n",
      "4A    32671\n",
      "8C    30882\n",
      "9D    28516\n",
      "9B    27588\n",
      "9C    24930\n",
      "7B    24359\n",
      "9A    20479\n",
      "2C    19090\n",
      "8D    17525\n",
      "6E    16052\n",
      "2B    15211\n",
      "5D    14836\n",
      "6C    14709\n",
      "2A    13046\n",
      "1D    11837\n",
      "5A    11406\n",
      "1A    10746\n",
      "5B    10262\n",
      "5C     9755\n",
      "7C     9027\n",
      "3A     8981\n",
      "4B     8925\n",
      "4D     8496\n",
      "3B     6835\n",
      "6A     6742\n",
      "9E     6264\n",
      "6D     6034\n",
      "6F     5332\n",
      "7D     5311\n",
      "4E     5269\n",
      "1E     5020\n",
      "7E     4575\n",
      "5F     4254\n",
      "1C     4254\n",
      "1B     4037\n",
      "5E     3561\n",
      "Name: CAMEO_DEU_2015, dtype: int64\n"
     ]
    }
   ],
   "source": [
    "# multi_list:\n",
    "for i in multi_list:\n",
    "    print(nomiss_azdias[i].value_counts())"
   ]
  },
  {
   "cell_type": "code",
   "execution_count": 100,
   "metadata": {},
   "outputs": [],
   "source": [
    "azdias_multi_dummies=nomiss_azdias[multi_list]\n",
    "azdias_multi_dummies=pd.get_dummies(azdias_multi_dummies)\n",
    "azdias_data = pd.concat( [nomiss_azdias, azdias_multi_dummies], axis = 1 )"
   ]
  },
  {
   "cell_type": "code",
   "execution_count": 101,
   "metadata": {},
   "outputs": [
    {
     "name": "stdout",
     "output_type": "stream",
     "text": [
      "(787544, 143)\n",
      "(787544, 64)\n"
     ]
    }
   ],
   "source": [
    "print(azdias_data.shape)\n",
    "print(azdias_multi_dummies.shape)"
   ]
  },
  {
   "cell_type": "code",
   "execution_count": 102,
   "metadata": {},
   "outputs": [],
   "source": [
    "azdias_data.drop(multi_list,axis=1,inplace=True)"
   ]
  },
  {
   "cell_type": "code",
   "execution_count": 103,
   "metadata": {},
   "outputs": [
    {
     "data": {
      "text/plain": [
       "(787544, 119)"
      ]
     },
     "execution_count": 103,
     "metadata": {},
     "output_type": "execute_result"
    }
   ],
   "source": [
    "azdias_data.shape"
   ]
  },
  {
   "cell_type": "markdown",
   "metadata": {},
   "source": [
    "#### Discussion 1.2.1: Re-Encode Categorical Features\n",
    "\n",
    "(Double-click this cell and replace this text with your own text, reporting your findings and decisions regarding categorical features. Which ones did you keep, which did you drop, and what engineering steps did you perform?)  \n",
    "*I chosen the categorical features with the type column of feat_info.I divided categorical into the binaray_list and multi_list with the value of the features which were chosen.For binaray_list I regularized the values of features,For multi_list I encoded the values using multiple dummy variables.*"
   ]
  },
  {
   "cell_type": "markdown",
   "metadata": {},
   "source": [
    "#### Step 1.2.2: Engineer Mixed-Type Features\n",
    "\n",
    "There are a handful of features that are marked as \"mixed\" in the feature summary that require special treatment in order to be included in the analysis. There are two in particular that deserve attention; the handling of the rest are up to your own choices:\n",
    "- \"PRAEGENDE_JUGENDJAHRE\" combines information on three dimensions: generation by decade, movement (mainstream vs. avantgarde), and nation (east vs. west). While there aren't enough levels to disentangle east from west, you should create two new variables to capture the other two dimensions: an interval-type variable for decade, and a binary variable for movement.\n",
    "- \"CAMEO_INTL_2015\" combines information on two axes: wealth and life stage. Break up the two-digit codes by their 'tens'-place and 'ones'-place digits into two new ordinal variables (which, for the purposes of this project, is equivalent to just treating them as their raw numeric values).\n",
    "- If you decide to keep or engineer new features around the other mixed-type features, make sure you note your steps in the Discussion section.\n",
    "\n",
    "Be sure to check `Data_Dictionary.md` for the details needed to finish these tasks."
   ]
  },
  {
   "cell_type": "code",
   "execution_count": 104,
   "metadata": {},
   "outputs": [
    {
     "data": {
      "text/html": [
       "<div>\n",
       "<style scoped>\n",
       "    .dataframe tbody tr th:only-of-type {\n",
       "        vertical-align: middle;\n",
       "    }\n",
       "\n",
       "    .dataframe tbody tr th {\n",
       "        vertical-align: top;\n",
       "    }\n",
       "\n",
       "    .dataframe thead th {\n",
       "        text-align: right;\n",
       "    }\n",
       "</style>\n",
       "<table border=\"1\" class=\"dataframe\">\n",
       "  <thead>\n",
       "    <tr style=\"text-align: right;\">\n",
       "      <th></th>\n",
       "      <th>attribute</th>\n",
       "      <th>information_level</th>\n",
       "      <th>type</th>\n",
       "      <th>missing_or_unknown</th>\n",
       "    </tr>\n",
       "  </thead>\n",
       "  <tbody>\n",
       "    <tr>\n",
       "      <th>15</th>\n",
       "      <td>LP_LEBENSPHASE_FEIN</td>\n",
       "      <td>person</td>\n",
       "      <td>mixed</td>\n",
       "      <td>[0]</td>\n",
       "    </tr>\n",
       "    <tr>\n",
       "      <th>16</th>\n",
       "      <td>LP_LEBENSPHASE_GROB</td>\n",
       "      <td>person</td>\n",
       "      <td>mixed</td>\n",
       "      <td>[0]</td>\n",
       "    </tr>\n",
       "    <tr>\n",
       "      <th>22</th>\n",
       "      <td>PRAEGENDE_JUGENDJAHRE</td>\n",
       "      <td>person</td>\n",
       "      <td>mixed</td>\n",
       "      <td>[-1,0]</td>\n",
       "    </tr>\n",
       "    <tr>\n",
       "      <th>56</th>\n",
       "      <td>WOHNLAGE</td>\n",
       "      <td>building</td>\n",
       "      <td>mixed</td>\n",
       "      <td>[-1]</td>\n",
       "    </tr>\n",
       "    <tr>\n",
       "      <th>59</th>\n",
       "      <td>CAMEO_INTL_2015</td>\n",
       "      <td>microcell_rr4</td>\n",
       "      <td>mixed</td>\n",
       "      <td>[-1,XX]</td>\n",
       "    </tr>\n",
       "    <tr>\n",
       "      <th>79</th>\n",
       "      <td>PLZ8_BAUMAX</td>\n",
       "      <td>macrocell_plz8</td>\n",
       "      <td>mixed</td>\n",
       "      <td>[-1,0]</td>\n",
       "    </tr>\n",
       "  </tbody>\n",
       "</table>\n",
       "</div>"
      ],
      "text/plain": [
       "                attribute information_level   type missing_or_unknown\n",
       "15    LP_LEBENSPHASE_FEIN            person  mixed                [0]\n",
       "16    LP_LEBENSPHASE_GROB            person  mixed                [0]\n",
       "22  PRAEGENDE_JUGENDJAHRE            person  mixed             [-1,0]\n",
       "56               WOHNLAGE          building  mixed               [-1]\n",
       "59        CAMEO_INTL_2015     microcell_rr4  mixed            [-1,XX]\n",
       "79            PLZ8_BAUMAX    macrocell_plz8  mixed             [-1,0]"
      ]
     },
     "execution_count": 104,
     "metadata": {},
     "output_type": "execute_result"
    }
   ],
   "source": [
    "my_feat_info[my_feat_info['type']=='mixed']\n",
    "# print(nomiss_azdias[''])"
   ]
  },
  {
   "cell_type": "code",
   "execution_count": 105,
   "metadata": {},
   "outputs": [
    {
     "data": {
      "text/plain": [
       "14.0    180173\n",
       "8.0     139934\n",
       "10.0     84643\n",
       "5.0      84134\n",
       "3.0      53428\n",
       "15.0     41635\n",
       "11.0     35133\n",
       "9.0      33474\n",
       "6.0      25618\n",
       "12.0     24196\n",
       "1.0      20467\n",
       "4.0      20423\n",
       "2.0       7468\n",
       "13.0      5658\n",
       "7.0       3991\n",
       "Name: PRAEGENDE_JUGENDJAHRE, dtype: int64"
      ]
     },
     "execution_count": 105,
     "metadata": {},
     "output_type": "execute_result"
    }
   ],
   "source": [
    "azdias_data['PRAEGENDE_JUGENDJAHRE'].value_counts()"
   ]
  },
  {
   "cell_type": "code",
   "execution_count": 106,
   "metadata": {},
   "outputs": [
    {
     "name": "stderr",
     "output_type": "stream",
     "text": [
      "c:\\program files\\python3\\lib\\site-packages\\ipykernel_launcher.py:3: SettingWithCopyWarning: \n",
      "A value is trying to be set on a copy of a slice from a DataFrame.\n",
      "Try using .loc[row_indexer,col_indexer] = value instead\n",
      "\n",
      "See the caveats in the documentation: http://pandas.pydata.org/pandas-docs/stable/indexing.html#indexing-view-versus-copy\n",
      "  This is separate from the ipykernel package so we can avoid doing imports until\n",
      "c:\\program files\\python3\\lib\\site-packages\\ipykernel_launcher.py:4: SettingWithCopyWarning: \n",
      "A value is trying to be set on a copy of a slice from a DataFrame.\n",
      "Try using .loc[row_indexer,col_indexer] = value instead\n",
      "\n",
      "See the caveats in the documentation: http://pandas.pydata.org/pandas-docs/stable/indexing.html#indexing-view-versus-copy\n",
      "  after removing the cwd from sys.path.\n",
      "c:\\program files\\python3\\lib\\site-packages\\pandas\\core\\indexing.py:543: SettingWithCopyWarning: \n",
      "A value is trying to be set on a copy of a slice from a DataFrame.\n",
      "Try using .loc[row_indexer,col_indexer] = value instead\n",
      "\n",
      "See the caveats in the documentation: http://pandas.pydata.org/pandas-docs/stable/indexing.html#indexing-view-versus-copy\n",
      "  self.obj[item] = s\n"
     ]
    },
    {
     "name": "stdout",
     "output_type": "stream",
     "text": [
      "6.0    221808\n",
      "4.0    173408\n",
      "5.0    149630\n",
      "3.0    113743\n",
      "2.0     73851\n",
      "1.0     27935\n",
      "Name: PJ_DECADE, dtype: int64\n",
      "0    614144\n",
      "1    173400\n",
      "Name: PJ_MOVEMENT, dtype: int64\n"
     ]
    }
   ],
   "source": [
    "# Investigate \"PRAEGENDE_JUGENDJAHRE\" and engineer two new variables.\n",
    "pj_pd=azdias_data[['PRAEGENDE_JUGENDJAHRE']]\n",
    "pj_pd['PJ_DECADE']=np.nan\n",
    "pj_pd['PJ_MOVEMENT']=0\n",
    "# 40s\n",
    "pj_pd.loc[pj_pd['PRAEGENDE_JUGENDJAHRE'].isin(['1','2']),'PJ_DECADE']=1\n",
    "pj_pd.loc[pj_pd['PRAEGENDE_JUGENDJAHRE'].isin(['3','4']),'PJ_DECADE']=2\n",
    "pj_pd.loc[pj_pd['PRAEGENDE_JUGENDJAHRE'].isin(['5','6','7']),'PJ_DECADE']=3\n",
    "pj_pd.loc[pj_pd['PRAEGENDE_JUGENDJAHRE'].isin(['8','9']),'PJ_DECADE']=4\n",
    "pj_pd.loc[pj_pd['PRAEGENDE_JUGENDJAHRE'].isin(['10','11','12','13']),'PJ_DECADE']=5\n",
    "pj_pd.loc[pj_pd['PRAEGENDE_JUGENDJAHRE'].isin(['14','15']),'PJ_DECADE']=6\n",
    "\n",
    "pj_pd.loc[pj_pd['PRAEGENDE_JUGENDJAHRE'].isin(['1','3','5','8','10','12','14']),'PJ_MOVEMENT']=0\n",
    "pj_pd.loc[pj_pd['PRAEGENDE_JUGENDJAHRE'].isin(['2','4','6','7','9','11','13','15']),'PJ_MOVEMENT']=1\n",
    "\n",
    "print(pj_pd['PJ_DECADE'].value_counts())\n",
    "print(pj_pd['PJ_MOVEMENT'].value_counts())\n",
    "\n",
    "pj_pd_dummies=pd.get_dummies(pj_pd)\n",
    "azdias_data = pd.concat( [azdias_data, pj_pd_dummies], axis = 1 )\n"
   ]
  },
  {
   "cell_type": "code",
   "execution_count": 107,
   "metadata": {},
   "outputs": [],
   "source": [
    "azdias_data.drop('PRAEGENDE_JUGENDJAHRE',axis=1,inplace=True)\n",
    "azdias_data.drop('PJ_DECADE',axis=1,inplace=True)"
   ]
  },
  {
   "cell_type": "code",
   "execution_count": 108,
   "metadata": {},
   "outputs": [
    {
     "name": "stdout",
     "output_type": "stream",
     "text": [
      "51    133335\n",
      "41     91842\n",
      "24     90154\n",
      "14     62141\n",
      "43     56289\n",
      "54     45220\n",
      "25     39197\n",
      "22     32671\n",
      "45     25959\n",
      "13     25957\n",
      "23     24741\n",
      "55     23789\n",
      "52     20479\n",
      "34     18397\n",
      "31     18148\n",
      "15     16857\n",
      "44     14709\n",
      "12     13046\n",
      "35     10288\n",
      "32     10262\n",
      "33      9755\n",
      "Name: CAMEO_INTL_2015, dtype: int64\n"
     ]
    }
   ],
   "source": [
    "# Investigate \"CAMEO_INTL_2015\" and engineer two new variables.\n",
    "print(azdias_data['CAMEO_INTL_2015'].value_counts())"
   ]
  },
  {
   "cell_type": "code",
   "execution_count": 109,
   "metadata": {},
   "outputs": [],
   "source": [
    "azdias_data['CI_WEALTH']=azdias_data['CAMEO_INTL_2015'].str.get(0).astype(float)\n",
    "azdias_data['CI_LIFE_STAGE']=azdias_data['CAMEO_INTL_2015'].str.get(1).astype(float)"
   ]
  },
  {
   "cell_type": "code",
   "execution_count": 110,
   "metadata": {},
   "outputs": [],
   "source": [
    "azdias_data.drop('CAMEO_INTL_2015',axis=1,inplace=True)"
   ]
  },
  {
   "cell_type": "code",
   "execution_count": 111,
   "metadata": {},
   "outputs": [],
   "source": [
    "azdias_data['WOHNLAGE']  #drop\n",
    "azdias_data['PLZ8_BAUMAX']  #drop\n",
    "azdias_data.drop('WOHNLAGE',axis=1,inplace=True)\n",
    "azdias_data.drop('PLZ8_BAUMAX',axis=1,inplace=True)\n",
    "\n",
    "azdias_data['LP_LEBENSPHASE_FEIN']  #Duplicate feature with CAMEO_INTL_2015\n",
    "azdias_data.drop('LP_LEBENSPHASE_FEIN',axis=1,inplace=True)\n",
    "azdias_data['LP_LEBENSPHASE_GROB']  #Duplicate feature with CAMEO_INTL_2015\n",
    "azdias_data.drop('LP_LEBENSPHASE_GROB',axis=1,inplace=True)"
   ]
  },
  {
   "cell_type": "markdown",
   "metadata": {},
   "source": [
    "#### Discussion 1.2.2: Engineer Mixed-Type Features\n",
    "\n",
    "(Double-click this cell and replace this text with your own text, reporting your findings and decisions regarding mixed-value features. Which ones did you keep, which did you drop, and what engineering steps did you perform?)  \n",
    "* I found the attributes which were mixed with filtering the type feature of feat_info \n",
    "* For PRAEGENDE_JUGENDJAHRE,I created two new variables to capture the other two dimensions: an interval-type variable for decade, and a binary variable for movement.\n",
    "* For CAMEO_INTL_2015,I breaked up the two-digit codes by their 'tens'-place and 'ones'-place digits into two new ordinal variables.\n",
    "* For LP_LEBENSPHASE_FEIN and LP_LEBENSPHASE_GROB,I found they were duplicate feature with CAMEO_INTL_2015,so I dropped them."
   ]
  },
  {
   "cell_type": "markdown",
   "metadata": {},
   "source": [
    "#### Step 1.2.3: Complete Feature Selection\n",
    "\n",
    "In order to finish this step up, you need to make sure that your data frame now only has the columns that you want to keep. To summarize, the dataframe should consist of the following:\n",
    "- All numeric, interval, and ordinal type columns from the original dataset.\n",
    "- Binary categorical features (all numerically-encoded).\n",
    "- Engineered features from other multi-level categorical features and mixed features.\n",
    "\n",
    "Make sure that for any new columns that you have engineered, that you've excluded the original columns from the final dataset. Otherwise, their values will interfere with the analysis later on the project. For example, you should not keep \"PRAEGENDE_JUGENDJAHRE\", since its values won't be useful for the algorithm: only the values derived from it in the engineered features you created should be retained. As a reminder, your data should only be from **the subset with few or no missing values**."
   ]
  },
  {
   "cell_type": "code",
   "execution_count": 112,
   "metadata": {},
   "outputs": [
    {
     "name": "stdout",
     "output_type": "stream",
     "text": [
      "<class 'pandas.core.frame.DataFrame'>\n",
      "RangeIndex: 787544 entries, 0 to 787543\n",
      "Columns: 116 entries, ALTERSKATEGORIE_GROB to CI_LIFE_STAGE\n",
      "dtypes: float64(39), int64(24), uint8(53)\n",
      "memory usage: 418.3 MB\n"
     ]
    }
   ],
   "source": [
    "# If there are other re-engineering tasks you need to perform, make sure you\n",
    "# take care of them here. (Dealing with missing data will come in step 2.1.)\n",
    "azdias_data.info()"
   ]
  },
  {
   "cell_type": "code",
   "execution_count": 113,
   "metadata": {},
   "outputs": [
    {
     "name": "stdout",
     "output_type": "stream",
     "text": [
      "(787544, 116)\n"
     ]
    }
   ],
   "source": [
    "# Do whatever you need to in order to ensure that the dataframe only contains\n",
    "# the columns that should be passed to the algorithm functions.\n",
    "print(azdias_data.shape)"
   ]
  },
  {
   "cell_type": "markdown",
   "metadata": {},
   "source": [
    "### Step 1.3: Create a Cleaning Function\n",
    "\n",
    "Even though you've finished cleaning up the general population demographics data, it's important to look ahead to the future and realize that you'll need to perform the same cleaning steps on the customer demographics data. In this substep, complete the function below to execute the main feature selection, encoding, and re-engineering steps you performed above. Then, when it comes to looking at the customer data in Step 3, you can just run this function on that DataFrame to get the trimmed dataset in a single step."
   ]
  },
  {
   "cell_type": "code",
   "execution_count": 114,
   "metadata": {},
   "outputs": [],
   "source": [
    "def clean_data(df):\n",
    "    \"\"\"\n",
    "    Perform feature trimming, re-encoding, and engineering for demographics\n",
    "    data\n",
    "    \n",
    "    INPUT: Demographics DataFrame\n",
    "    OUTPUT: Trimmed and cleaned demographics DataFrame\n",
    "    \"\"\"\n",
    "    \n",
    "    # Put in code here to execute all main cleaning steps:\n",
    "    # convert missing value codes into NaNs, ...\n",
    "    \n",
    "    for i, info in feat_info.iterrows():\n",
    "        for l in info['missing_or_unknown'].strip('[]').split(','):\n",
    "            df[info['attribute']].replace(pd.to_numeric(l,errors='ignore'),np.nan, inplace=True)\n",
    "   \n",
    "    # remove selected columns and rows, ...\n",
    "    \n",
    "    df.drop(['AGER_TYP','GEBURTSJAHR','TITEL_KZ','ALTER_HH','KK_KUNDENTYP','KBA05_BAUMAX'],axis=1,inplace=True)\n",
    "    df=df.dropna(axis=0,how='any',thresh=65)\n",
    "    df=df.reset_index(drop = True)\n",
    "    # select, re-encode, and engineer column values.\n",
    "    # ANREDE_KZ\n",
    "    df.loc[df['ANREDE_KZ'] ==1,'ANREDE_KZ']=0\n",
    "    df.loc[df['ANREDE_KZ'] ==2,'ANREDE_KZ']=1\n",
    "# # VERS_TYP\n",
    "    df.loc[df['VERS_TYP'] ==1.0,'VERS_TYP']=0\n",
    "    df.loc[df['VERS_TYP'] ==2.0,'VERS_TYP']=1\n",
    "# # OST_WEST_KZ\n",
    "    df.loc[df['OST_WEST_KZ'] =='W','OST_WEST_KZ']=1\n",
    "    df.loc[df['OST_WEST_KZ'] =='O','OST_WEST_KZ']=0\n",
    "    df_multi_dummies=df[multi_list]\n",
    "    df_multi_dummies=pd.get_dummies(df_multi_dummies)\n",
    "    df = pd.concat( [df, df_multi_dummies], axis = 1 )\n",
    "    df.drop(multi_list,axis=1,inplace=True)\n",
    "    \n",
    "    pj_pd=df[['PRAEGENDE_JUGENDJAHRE']]\n",
    "    pj_pd['PJ_DECADE']=np.nan\n",
    "    pj_pd['PJ_MOVEMENT']=0\n",
    "    \n",
    "    pj_pd.loc[pj_pd['PRAEGENDE_JUGENDJAHRE'].isin(['1','2']),'PJ_DECADE']=1\n",
    "    pj_pd.loc[pj_pd['PRAEGENDE_JUGENDJAHRE'].isin(['3','4']),'PJ_DECADE']=2\n",
    "    pj_pd.loc[pj_pd['PRAEGENDE_JUGENDJAHRE'].isin(['5','6','7']),'PJ_DECADE']=3\n",
    "    pj_pd.loc[pj_pd['PRAEGENDE_JUGENDJAHRE'].isin(['8','9']),'PJ_DECADE']=4\n",
    "    pj_pd.loc[pj_pd['PRAEGENDE_JUGENDJAHRE'].isin(['10','11','12','13']),'PJ_DECADE']=5\n",
    "    pj_pd.loc[pj_pd['PRAEGENDE_JUGENDJAHRE'].isin(['14','15']),'PJ_DECADE']=6\n",
    "\n",
    "    pj_pd.loc[pj_pd['PRAEGENDE_JUGENDJAHRE'].isin(['1','3','5','8','10','12','14']),'PJ_MOVEMENT']=0\n",
    "    pj_pd.loc[pj_pd['PRAEGENDE_JUGENDJAHRE'].isin(['2','4','6','7','9','11','13','15']),'PJ_MOVEMENT']=1\n",
    "    \n",
    "    \n",
    "    pj_pd_dummies=pd.get_dummies(pj_pd)\n",
    "    df = pd.concat( [df, pj_pd_dummies], axis = 1 )\n",
    "    \n",
    "    df.drop('PRAEGENDE_JUGENDJAHRE',axis=1,inplace=True)\n",
    "    df.drop('PJ_DECADE',axis=1,inplace=True)\n",
    "    \n",
    "    df['CI_WEALTH']=df['CAMEO_INTL_2015'].str.get(0).astype(float)\n",
    "    df['CI_LIFE_STAGE']=df['CAMEO_INTL_2015'].str.get(1).astype(float)\n",
    "    \n",
    "    df.drop('CAMEO_INTL_2015',axis=1,inplace=True)\n",
    "    \n",
    "    df.drop('LP_LEBENSPHASE_FEIN',axis=1,inplace=True)\n",
    "    df.drop('LP_LEBENSPHASE_GROB',axis=1,inplace=True)\n",
    "    df.drop('WOHNLAGE',axis=1,inplace=True)\n",
    "    df.drop('PLZ8_BAUMAX',axis=1,inplace=True)\n",
    "    \n",
    "    # Return the cleaned dataframe.\n",
    "    return df\n",
    "    "
   ]
  },
  {
   "cell_type": "code",
   "execution_count": 115,
   "metadata": {},
   "outputs": [
    {
     "name": "stderr",
     "output_type": "stream",
     "text": [
      "c:\\program files\\python3\\lib\\site-packages\\ipykernel_launcher.py:38: SettingWithCopyWarning: \n",
      "A value is trying to be set on a copy of a slice from a DataFrame.\n",
      "Try using .loc[row_indexer,col_indexer] = value instead\n",
      "\n",
      "See the caveats in the documentation: http://pandas.pydata.org/pandas-docs/stable/indexing.html#indexing-view-versus-copy\n",
      "c:\\program files\\python3\\lib\\site-packages\\ipykernel_launcher.py:39: SettingWithCopyWarning: \n",
      "A value is trying to be set on a copy of a slice from a DataFrame.\n",
      "Try using .loc[row_indexer,col_indexer] = value instead\n",
      "\n",
      "See the caveats in the documentation: http://pandas.pydata.org/pandas-docs/stable/indexing.html#indexing-view-versus-copy\n",
      "c:\\program files\\python3\\lib\\site-packages\\pandas\\core\\indexing.py:543: SettingWithCopyWarning: \n",
      "A value is trying to be set on a copy of a slice from a DataFrame.\n",
      "Try using .loc[row_indexer,col_indexer] = value instead\n",
      "\n",
      "See the caveats in the documentation: http://pandas.pydata.org/pandas-docs/stable/indexing.html#indexing-view-versus-copy\n",
      "  self.obj[item] = s\n"
     ]
    }
   ],
   "source": [
    "# Load in the Udacity_CUSTOMERS_Subset file.\n",
    "customers = pd.read_csv('Udacity_CUSTOMERS_Subset.csv',sep=';')\n",
    "customers_df=clean_data(customers)"
   ]
  },
  {
   "cell_type": "code",
   "execution_count": 116,
   "metadata": {},
   "outputs": [
    {
     "name": "stdout",
     "output_type": "stream",
     "text": [
      "<class 'pandas.core.frame.DataFrame'>\n",
      "RangeIndex: 140271 entries, 0 to 140270\n",
      "Columns: 116 entries, ALTERSKATEGORIE_GROB to CI_LIFE_STAGE\n",
      "dtypes: float64(39), int64(24), uint8(53)\n",
      "memory usage: 74.5 MB\n"
     ]
    }
   ],
   "source": [
    "customers_df.info()"
   ]
  },
  {
   "cell_type": "markdown",
   "metadata": {},
   "source": [
    "## Step 2: Feature Transformation\n",
    "\n",
    "### Step 2.1: Apply Feature Scaling\n",
    "\n",
    "Before we apply dimensionality reduction techniques to the data, we need to perform feature scaling so that the principal component vectors are not influenced by the natural differences in scale for features. Starting from this part of the project, you'll want to keep an eye on the [API reference page for sklearn](http://scikit-learn.org/stable/modules/classes.html) to help you navigate to all of the classes and functions that you'll need. In this substep, you'll need to check the following:\n",
    "\n",
    "- sklearn requires that data not have missing values in order for its estimators to work properly. So, before applying the scaler to your data, make sure that you've cleaned the DataFrame of the remaining missing values before applying your scaler. This can be as simple as just removing all data points with missing data, or applying an [Imputer](http://scikit-learn.org/stable/modules/generated/sklearn.preprocessing.Imputer.html) to replace all missing values. You might also try a more complicated procedure where you temporarily remove missing values in order to compute the scaling parameters before re-introducing those missing values and applying imputation. Think about how much missing data you have and what possible effects each approach might have on your analysis, and justify your decision in the discussion section below.\n",
    "- For the actual scaling function, a [StandardScaler](http://scikit-learn.org/stable/modules/generated/sklearn.preprocessing.StandardScaler.html) instance is suggested, scaling each feature to mean 0 and standard deviation 1.\n",
    "- For these classes, you can make use of the `.fit_transform()` method to both fit a procedure to the data as well as apply the transformation to the data at the same time. Don't forget to keep the fit sklearn objects handy, since you'll be applying them to the customer demographics data towards the end of the project."
   ]
  },
  {
   "cell_type": "code",
   "execution_count": 117,
   "metadata": {},
   "outputs": [
    {
     "data": {
      "text/plain": [
       "ordinal        49\n",
       "categorical    18\n",
       "mixed           6\n",
       "numeric         6\n",
       "Name: type, dtype: int64"
      ]
     },
     "execution_count": 117,
     "metadata": {},
     "output_type": "execute_result"
    }
   ],
   "source": [
    "my_feat_info['type'].value_counts()"
   ]
  },
  {
   "cell_type": "code",
   "execution_count": 118,
   "metadata": {},
   "outputs": [
    {
     "name": "stdout",
     "output_type": "stream",
     "text": [
      "49\n",
      "57\n"
     ]
    }
   ],
   "source": [
    "# create ordinal datasubset\n",
    "\n",
    "ordinal_list=list(my_feat_info[my_feat_info['type']=='ordinal']['attribute'])\n",
    "numeric_list=list(my_feat_info[my_feat_info['type']=='numeric']['attribute'])\n",
    "print(len(ordinal_list))\n",
    "ordinal_list.extend(['CI_WEALTH','CI_LIFE_STAGE'])\n",
    "ordinal_list.extend(numeric_list)\n",
    "print(len(ordinal_list))\n",
    "# ordinal_list=list(set(my_feat_info['attribute'])-set(categorical_list)-set(['PRAEGENDE_JUGENDJAHRE','CAMEO_INTL_2015','LP_LEBENSPHASE_FEIN','LP_LEBENSPHASE_GROB']))\n",
    "# print(len(ordinal_list))\n",
    "azdias_ordinal_data=azdias_data[ordinal_list]"
   ]
  },
  {
   "cell_type": "code",
   "execution_count": 119,
   "metadata": {},
   "outputs": [],
   "source": [
    "# If you've not yet cleaned the dataset of all NaN values, then investigate and\n",
    "# do that now.\n",
    "from sklearn.preprocessing import Imputer,StandardScaler\n",
    "\n",
    "imputer=Imputer(missing_values='NaN',strategy='median')\n",
    "azdias_ordinal_imputer=imputer.fit_transform(azdias_ordinal_data)\n"
   ]
  },
  {
   "cell_type": "code",
   "execution_count": 120,
   "metadata": {},
   "outputs": [],
   "source": [
    "# Apply feature scaling to the general population demographics data.\n",
    "scaler = StandardScaler()\n",
    "azdias_ordinal_scaler=scaler.fit_transform(azdias_ordinal_imputer)\n",
    "scaled_azdias_ordinal=pd.DataFrame(azdias_ordinal_scaler, columns=list(azdias_ordinal_data.columns))\n"
   ]
  },
  {
   "cell_type": "code",
   "execution_count": 121,
   "metadata": {},
   "outputs": [
    {
     "name": "stdout",
     "output_type": "stream",
     "text": [
      "<class 'pandas.core.frame.DataFrame'>\n",
      "RangeIndex: 787544 entries, 0 to 787543\n",
      "Data columns (total 57 columns):\n",
      "ALTERSKATEGORIE_GROB     787544 non-null float64\n",
      "FINANZ_MINIMALIST        787544 non-null float64\n",
      "FINANZ_SPARER            787544 non-null float64\n",
      "FINANZ_VORSORGER         787544 non-null float64\n",
      "FINANZ_ANLEGER           787544 non-null float64\n",
      "FINANZ_UNAUFFAELLIGER    787544 non-null float64\n",
      "FINANZ_HAUSBAUER         787544 non-null float64\n",
      "HEALTH_TYP               787544 non-null float64\n",
      "RETOURTYP_BK_S           787544 non-null float64\n",
      "SEMIO_SOZ                787544 non-null float64\n",
      "SEMIO_FAM                787544 non-null float64\n",
      "SEMIO_REL                787544 non-null float64\n",
      "SEMIO_MAT                787544 non-null float64\n",
      "SEMIO_VERT               787544 non-null float64\n",
      "SEMIO_LUST               787544 non-null float64\n",
      "SEMIO_ERL                787544 non-null float64\n",
      "SEMIO_KULT               787544 non-null float64\n",
      "SEMIO_RAT                787544 non-null float64\n",
      "SEMIO_KRIT               787544 non-null float64\n",
      "SEMIO_DOM                787544 non-null float64\n",
      "SEMIO_KAEM               787544 non-null float64\n",
      "SEMIO_PFLICHT            787544 non-null float64\n",
      "SEMIO_TRADV              787544 non-null float64\n",
      "HH_EINKOMMEN_SCORE       787544 non-null float64\n",
      "W_KEIT_KIND_HH           787544 non-null float64\n",
      "WOHNDAUER_2008           787544 non-null float64\n",
      "KONSUMNAEHE              787544 non-null float64\n",
      "KBA05_ANTG1              787544 non-null float64\n",
      "KBA05_ANTG2              787544 non-null float64\n",
      "KBA05_ANTG3              787544 non-null float64\n",
      "KBA05_ANTG4              787544 non-null float64\n",
      "KBA05_GBZ                787544 non-null float64\n",
      "BALLRAUM                 787544 non-null float64\n",
      "EWDICHTE                 787544 non-null float64\n",
      "INNENSTADT               787544 non-null float64\n",
      "GEBAEUDETYP_RASTER       787544 non-null float64\n",
      "KKK                      787544 non-null float64\n",
      "MOBI_REGIO               787544 non-null float64\n",
      "ONLINE_AFFINITAET        787544 non-null float64\n",
      "REGIOTYP                 787544 non-null float64\n",
      "PLZ8_ANTG1               787544 non-null float64\n",
      "PLZ8_ANTG2               787544 non-null float64\n",
      "PLZ8_ANTG3               787544 non-null float64\n",
      "PLZ8_ANTG4               787544 non-null float64\n",
      "PLZ8_HHZ                 787544 non-null float64\n",
      "PLZ8_GBZ                 787544 non-null float64\n",
      "ARBEIT                   787544 non-null float64\n",
      "ORTSGR_KLS9              787544 non-null float64\n",
      "RELAT_AB                 787544 non-null float64\n",
      "CI_WEALTH                787544 non-null float64\n",
      "CI_LIFE_STAGE            787544 non-null float64\n",
      "ANZ_PERSONEN             787544 non-null float64\n",
      "ANZ_TITEL                787544 non-null float64\n",
      "ANZ_HAUSHALTE_AKTIV      787544 non-null float64\n",
      "ANZ_HH_TITEL             787544 non-null float64\n",
      "MIN_GEBAEUDEJAHR         787544 non-null float64\n",
      "KBA13_ANZAHL_PKW         787544 non-null float64\n",
      "dtypes: float64(57)\n",
      "memory usage: 342.5 MB\n"
     ]
    }
   ],
   "source": [
    "scaled_azdias_ordinal.info()"
   ]
  },
  {
   "cell_type": "code",
   "execution_count": 122,
   "metadata": {},
   "outputs": [],
   "source": [
    "azdias_data=azdias_data.drop(ordinal_list,axis=1)\n",
    "azdias_data=azdias_data.fillna(0)\n",
    "azdias_data=azdias_data.merge(scaled_azdias_ordinal,left_on=azdias_data.index, right_on=scaled_azdias_ordinal.index, how='outer')"
   ]
  },
  {
   "cell_type": "code",
   "execution_count": 123,
   "metadata": {},
   "outputs": [
    {
     "name": "stdout",
     "output_type": "stream",
     "text": [
      "<class 'pandas.core.frame.DataFrame'>\n",
      "Int64Index: 787544 entries, 0 to 787543\n",
      "Columns: 117 entries, key_0 to KBA13_ANZAHL_PKW\n",
      "dtypes: float64(59), int64(5), uint8(53)\n",
      "memory usage: 430.4 MB\n",
      "None\n"
     ]
    }
   ],
   "source": [
    "print(azdias_data.info())\n",
    "# print(a['key_0'])"
   ]
  },
  {
   "cell_type": "code",
   "execution_count": 124,
   "metadata": {},
   "outputs": [],
   "source": [
    "azdias_data=azdias_data.drop('key_0',axis=1)"
   ]
  },
  {
   "cell_type": "code",
   "execution_count": 125,
   "metadata": {},
   "outputs": [
    {
     "data": {
      "text/html": [
       "<div>\n",
       "<style scoped>\n",
       "    .dataframe tbody tr th:only-of-type {\n",
       "        vertical-align: middle;\n",
       "    }\n",
       "\n",
       "    .dataframe tbody tr th {\n",
       "        vertical-align: top;\n",
       "    }\n",
       "\n",
       "    .dataframe thead th {\n",
       "        text-align: right;\n",
       "    }\n",
       "</style>\n",
       "<table border=\"1\" class=\"dataframe\">\n",
       "  <thead>\n",
       "    <tr style=\"text-align: right;\">\n",
       "      <th></th>\n",
       "      <th>ANREDE_KZ</th>\n",
       "      <th>GREEN_AVANTGARDE</th>\n",
       "      <th>SOHO_KZ</th>\n",
       "      <th>VERS_TYP</th>\n",
       "      <th>OST_WEST_KZ</th>\n",
       "      <th>CAMEO_DEUG_2015_1</th>\n",
       "      <th>CAMEO_DEUG_2015_2</th>\n",
       "      <th>CAMEO_DEUG_2015_3</th>\n",
       "      <th>CAMEO_DEUG_2015_4</th>\n",
       "      <th>CAMEO_DEUG_2015_5</th>\n",
       "      <th>...</th>\n",
       "      <th>ORTSGR_KLS9</th>\n",
       "      <th>RELAT_AB</th>\n",
       "      <th>CI_WEALTH</th>\n",
       "      <th>CI_LIFE_STAGE</th>\n",
       "      <th>ANZ_PERSONEN</th>\n",
       "      <th>ANZ_TITEL</th>\n",
       "      <th>ANZ_HAUSHALTE_AKTIV</th>\n",
       "      <th>ANZ_HH_TITEL</th>\n",
       "      <th>MIN_GEBAEUDEJAHR</th>\n",
       "      <th>KBA13_ANZAHL_PKW</th>\n",
       "    </tr>\n",
       "  </thead>\n",
       "  <tbody>\n",
       "  </tbody>\n",
       "</table>\n",
       "<p>0 rows × 116 columns</p>\n",
       "</div>"
      ],
      "text/plain": [
       "Empty DataFrame\n",
       "Columns: [ANREDE_KZ, GREEN_AVANTGARDE, SOHO_KZ, VERS_TYP, OST_WEST_KZ, CAMEO_DEUG_2015_1, CAMEO_DEUG_2015_2, CAMEO_DEUG_2015_3, CAMEO_DEUG_2015_4, CAMEO_DEUG_2015_5, CAMEO_DEUG_2015_6, CAMEO_DEUG_2015_7, CAMEO_DEUG_2015_8, CAMEO_DEUG_2015_9, CAMEO_DEU_2015_1A, CAMEO_DEU_2015_1B, CAMEO_DEU_2015_1C, CAMEO_DEU_2015_1D, CAMEO_DEU_2015_1E, CAMEO_DEU_2015_2A, CAMEO_DEU_2015_2B, CAMEO_DEU_2015_2C, CAMEO_DEU_2015_2D, CAMEO_DEU_2015_3A, CAMEO_DEU_2015_3B, CAMEO_DEU_2015_3C, CAMEO_DEU_2015_3D, CAMEO_DEU_2015_4A, CAMEO_DEU_2015_4B, CAMEO_DEU_2015_4C, CAMEO_DEU_2015_4D, CAMEO_DEU_2015_4E, CAMEO_DEU_2015_5A, CAMEO_DEU_2015_5B, CAMEO_DEU_2015_5C, CAMEO_DEU_2015_5D, CAMEO_DEU_2015_5E, CAMEO_DEU_2015_5F, CAMEO_DEU_2015_6A, CAMEO_DEU_2015_6B, CAMEO_DEU_2015_6C, CAMEO_DEU_2015_6D, CAMEO_DEU_2015_6E, CAMEO_DEU_2015_6F, CAMEO_DEU_2015_7A, CAMEO_DEU_2015_7B, CAMEO_DEU_2015_7C, CAMEO_DEU_2015_7D, CAMEO_DEU_2015_7E, CAMEO_DEU_2015_8A, CAMEO_DEU_2015_8B, CAMEO_DEU_2015_8C, CAMEO_DEU_2015_8D, CAMEO_DEU_2015_9A, CAMEO_DEU_2015_9B, CAMEO_DEU_2015_9C, CAMEO_DEU_2015_9D, CAMEO_DEU_2015_9E, PJ_MOVEMENT, ALTERSKATEGORIE_GROB, FINANZ_MINIMALIST, FINANZ_SPARER, FINANZ_VORSORGER, FINANZ_ANLEGER, FINANZ_UNAUFFAELLIGER, FINANZ_HAUSBAUER, HEALTH_TYP, RETOURTYP_BK_S, SEMIO_SOZ, SEMIO_FAM, SEMIO_REL, SEMIO_MAT, SEMIO_VERT, SEMIO_LUST, SEMIO_ERL, SEMIO_KULT, SEMIO_RAT, SEMIO_KRIT, SEMIO_DOM, SEMIO_KAEM, SEMIO_PFLICHT, SEMIO_TRADV, HH_EINKOMMEN_SCORE, W_KEIT_KIND_HH, WOHNDAUER_2008, KONSUMNAEHE, KBA05_ANTG1, KBA05_ANTG2, KBA05_ANTG3, KBA05_ANTG4, KBA05_GBZ, BALLRAUM, EWDICHTE, INNENSTADT, GEBAEUDETYP_RASTER, KKK, MOBI_REGIO, ONLINE_AFFINITAET, REGIOTYP, PLZ8_ANTG1, ...]\n",
       "Index: []\n",
       "\n",
       "[0 rows x 116 columns]"
      ]
     },
     "execution_count": 125,
     "metadata": {},
     "output_type": "execute_result"
    }
   ],
   "source": [
    "azdias_data[azdias_data.isnull().values==True]"
   ]
  },
  {
   "cell_type": "markdown",
   "metadata": {},
   "source": [
    "### Discussion 2.1: Apply Feature Scaling\n",
    "\n",
    "(Double-click this cell and replace this text with your own text, reporting your decisions regarding feature scaling.)  \n",
    "* I found out the ordinal features to imputer than I standardized.\n",
    "* I replace the part of the ordinal features of the original dataframe data."
   ]
  },
  {
   "cell_type": "markdown",
   "metadata": {},
   "source": [
    "### Step 2.2: Perform Dimensionality Reduction\n",
    "\n",
    "On your scaled data, you are now ready to apply dimensionality reduction techniques.\n",
    "\n",
    "- Use sklearn's [PCA](http://scikit-learn.org/stable/modules/generated/sklearn.decomposition.PCA.html) class to apply principal component analysis on the data, thus finding the vectors of maximal variance in the data. To start, you should not set any parameters (so all components are computed) or set a number of components that is at least half the number of features (so there's enough features to see the general trend in variability).\n",
    "- Check out the ratio of variance explained by each principal component as well as the cumulative variance explained. Try plotting the cumulative or sequential values using matplotlib's [`plot()`](https://matplotlib.org/api/_as_gen/matplotlib.pyplot.plot.html) function. Based on what you find, select a value for the number of transformed features you'll retain for the clustering part of the project.\n",
    "- Once you've made a choice for the number of components to keep, make sure you re-fit a PCA instance to perform the decided-on transformation."
   ]
  },
  {
   "cell_type": "code",
   "execution_count": 126,
   "metadata": {},
   "outputs": [],
   "source": [
    "# Apply PCA to the data.\n",
    "from sklearn.decomposition import PCA\n",
    "pca=PCA(n_components=100)\n",
    "azdias_pca=pca.fit_transform(azdias_data)"
   ]
  },
  {
   "cell_type": "code",
   "execution_count": 127,
   "metadata": {},
   "outputs": [
    {
     "data": {
      "text/plain": [
       "<BarContainer object of 100 artists>"
      ]
     },
     "execution_count": 127,
     "metadata": {},
     "output_type": "execute_result"
    },
    {
     "data": {
      "image/png": "[encoded data removed]",
      "text/plain": [
       "<Figure size 1080x576 with 1 Axes>"
      ]
     },
     "metadata": {},
     "output_type": "display_data"
    }
   ],
   "source": [
    "# Investigate the variance accounted for by each principal component.\n",
    "plt.figure(figsize=(15,8)) \n",
    "explained_variance_ratio=[val for val in pca.explained_variance_ratio_]\n",
    "cv=np.cumsum(np.round(explained_variance_ratio, decimals=3))\n",
    "plt.ylabel('Variance Explained')\n",
    "plt.xlabel('Number Of Features')\n",
    "plt.bar(range(0,len(explained_variance_ratio)),explained_variance_ratio)"
   ]
  },
  {
   "cell_type": "code",
   "execution_count": 128,
   "metadata": {},
   "outputs": [
    {
     "name": "stdout",
     "output_type": "stream",
     "text": [
      "100\n"
     ]
    }
   ],
   "source": [
    "print(len(cv))"
   ]
  },
  {
   "cell_type": "code",
   "execution_count": 129,
   "metadata": {},
   "outputs": [
    {
     "data": {
      "text/plain": [
       "[<matplotlib.lines.Line2D at 0x1640ffe0828>]"
      ]
     },
     "execution_count": 129,
     "metadata": {},
     "output_type": "execute_result"
    },
    {
     "data": {
      "image/png": "[encoded data removed]",
      "text/plain": [
       "<Figure size 1080x576 with 1 Axes>"
      ]
     },
     "metadata": {},
     "output_type": "display_data"
    }
   ],
   "source": [
    "plt.figure(figsize=(15,8)) \n",
    "plt.ylabel('% Cummilative Variance Explained')\n",
    "plt.xlabel('Number of Features')\n",
    "plt.plot(cv,marker='o', color='b')"
   ]
  },
  {
   "cell_type": "code",
   "execution_count": 161,
   "metadata": {},
   "outputs": [],
   "source": [
    "# Re-apply PCA to the data while selecting for number of components to retain.\n",
    "pca = PCA(n_components=20)\n",
    "azdias_pca = pca.fit_transform(azdias_data)"
   ]
  },
  {
   "cell_type": "markdown",
   "metadata": {},
   "source": [
    "### Discussion 2.2: Perform Dimensionality Reduction\n",
    "\n",
    "(Double-click this cell and replace this text with your own text, reporting your findings and decisions regarding dimensionality reduction. How many principal components / transformed features are you retaining for the next step of the analysis?)   \n",
    "* I devided the data into parts which were ordinal data and the other.\n",
    "* I applied an Imputer to replace the missing values of the ordinal data.\n",
    "* I applied fillna function to replace the missing values of the other data.\n",
    "* I applied StandardScaler to standardize the ordinal data.\n",
    "* I used PCA class to apply principal component analysis on the data.\n",
    "* I chosen 20 componets with the picture of the cummilative variance distribution.\n",
    "* **I found the value of 20 that could capture 80% variables.**"
   ]
  },
  {
   "cell_type": "markdown",
   "metadata": {},
   "source": [
    "### Step 2.3: Interpret Principal Components\n",
    "\n",
    "Now that we have our transformed principal components, it's a nice idea to check out the weight of each variable on the first few components to see if they can be interpreted in some fashion.\n",
    "\n",
    "As a reminder, each principal component is a unit vector that points in the direction of highest variance (after accounting for the variance captured by earlier principal components). The further a weight is from zero, the more the principal component is in the direction of the corresponding feature. If two features have large weights of the same sign (both positive or both negative), then increases in one tend expect to be associated with increases in the other. To contrast, features with different signs can be expected to show a negative correlation: increases in one variable should result in a decrease in the other.\n",
    "\n",
    "- To investigate the features, you should map each weight to their corresponding feature name, then sort the features according to weight. The most interesting features for each principal component, then, will be those at the beginning and end of the sorted list. Use the data dictionary document to help you understand these most prominent features, their relationships, and what a positive or negative value on the principal component might indicate.\n",
    "- You should investigate and interpret feature associations from the first three principal components in this substep. To help facilitate this, you should write a function that you can call at any time to print the sorted list of feature weights, for the *i*-th principal component. This might come in handy in the next step of the project, when you interpret the tendencies of the discovered clusters."
   ]
  },
  {
   "cell_type": "code",
   "execution_count": 162,
   "metadata": {},
   "outputs": [],
   "source": [
    "# Map weights for the first principal component to corresponding feature names\n",
    "# and then print the linked values, sorted by weight.\n",
    "# HINT: Try defining a function here or in a new cell that you can reuse in the\n",
    "# other cells.\n",
    "azdias_data_columns=list(azdias_data.columns)\n",
    "def weightsOfPca(componentIndex):\n",
    "    components=pca.components_[componentIndex]\n",
    "    componentspd=pd.DataFrame(components,columns=['weight'])\n",
    "    componentspd['name']=azdias_data_columns\n",
    "    print(len(azdias_data.columns))\n",
    "    print(componentspd.sort_values(by='weight',ascending=False))"
   ]
  },
  {
   "cell_type": "code",
   "execution_count": 163,
   "metadata": {},
   "outputs": [
    {
     "name": "stdout",
     "output_type": "stream",
     "text": [
      "116\n",
      "       weight                   name\n",
      "101  0.238436             PLZ8_ANTG3\n",
      "102  0.230554             PLZ8_ANTG4\n",
      "108  0.213550              CI_WEALTH\n",
      "106  0.212426            ORTSGR_KLS9\n",
      "92   0.211127               EWDICHTE\n",
      "82   0.202588     HH_EINKOMMEN_SCORE\n",
      "65   0.169895       FINANZ_HAUSBAUER\n",
      "100  0.164175             PLZ8_ANTG2\n",
      "89   0.161483            KBA05_ANTG4\n",
      "105  0.150922                 ARBEIT\n",
      "107  0.144915               RELAT_AB\n",
      "112  0.141901    ANZ_HAUSHALTE_AKTIV\n",
      "88   0.141277            KBA05_ANTG3\n",
      "61   0.123846          FINANZ_SPARER\n",
      "80   0.095356          SEMIO_PFLICHT\n",
      "70   0.093275              SEMIO_REL\n",
      "76   0.077090              SEMIO_RAT\n",
      "81   0.069300            SEMIO_TRADV\n",
      "69   0.068236              SEMIO_FAM\n",
      "71   0.068074              SEMIO_MAT\n",
      "98   0.065962               REGIOTYP\n",
      "75   0.058802             SEMIO_KULT\n",
      "64   0.055352  FINANZ_UNAUFFAELLIGER\n",
      "83   0.047209         W_KEIT_KIND_HH\n",
      "103  0.045955               PLZ8_HHZ\n",
      "13   0.045384      CAMEO_DEUG_2015_9\n",
      "63   0.043968         FINANZ_ANLEGER\n",
      "79   0.043100             SEMIO_KAEM\n",
      "12   0.040641      CAMEO_DEUG_2015_8\n",
      "68   0.040549              SEMIO_SOZ\n",
      "..        ...                    ...\n",
      "27  -0.011051      CAMEO_DEU_2015_4A\n",
      "22  -0.011056      CAMEO_DEU_2015_2D\n",
      "29  -0.013359      CAMEO_DEU_2015_4C\n",
      "4   -0.020534            OST_WEST_KZ\n",
      "7   -0.024149      CAMEO_DEUG_2015_3\n",
      "8   -0.029755      CAMEO_DEUG_2015_4\n",
      "6   -0.030666      CAMEO_DEUG_2015_2\n",
      "72  -0.038459             SEMIO_VERT\n",
      "1   -0.038965       GREEN_AVANTGARDE\n",
      "58  -0.038965            PJ_MOVEMENT\n",
      "84  -0.054425         WOHNDAUER_2008\n",
      "73  -0.055988             SEMIO_LUST\n",
      "97  -0.057666      ONLINE_AFFINITAET\n",
      "114 -0.061098       MIN_GEBAEUDEJAHR\n",
      "74  -0.061681              SEMIO_ERL\n",
      "115 -0.081248       KBA13_ANZAHL_PKW\n",
      "110 -0.082235           ANZ_PERSONEN\n",
      "62  -0.091265       FINANZ_VORSORGER\n",
      "59  -0.096910   ALTERSKATEGORIE_GROB\n",
      "94  -0.123721     GEBAEUDETYP_RASTER\n",
      "109 -0.126142          CI_LIFE_STAGE\n",
      "91  -0.138170               BALLRAUM\n",
      "104 -0.174245               PLZ8_GBZ\n",
      "93  -0.176815             INNENSTADT\n",
      "85  -0.178769            KONSUMNAEHE\n",
      "60  -0.209669      FINANZ_MINIMALIST\n",
      "90  -0.224114              KBA05_GBZ\n",
      "86  -0.228639            KBA05_ANTG1\n",
      "99  -0.236452             PLZ8_ANTG1\n",
      "96  -0.250236             MOBI_REGIO\n",
      "\n",
      "[116 rows x 2 columns]\n"
     ]
    }
   ],
   "source": [
    "weightsOfPca(0)"
   ]
  },
  {
   "cell_type": "code",
   "execution_count": 164,
   "metadata": {},
   "outputs": [
    {
     "name": "stdout",
     "output_type": "stream",
     "text": [
      "116\n",
      "       weight                   name\n",
      "59   0.283162   ALTERSKATEGORIE_GROB\n",
      "74   0.248307              SEMIO_ERL\n",
      "62   0.247076       FINANZ_VORSORGER\n",
      "73   0.197231             SEMIO_LUST\n",
      "67   0.169030         RETOURTYP_BK_S\n",
      "77   0.120888             SEMIO_KRIT\n",
      "83   0.114713         W_KEIT_KIND_HH\n",
      "79   0.112747             SEMIO_KAEM\n",
      "65   0.098108       FINANZ_HAUSBAUER\n",
      "60   0.090866      FINANZ_MINIMALIST\n",
      "92   0.074885               EWDICHTE\n",
      "106  0.072958            ORTSGR_KLS9\n",
      "78   0.071777              SEMIO_DOM\n",
      "101  0.071703             PLZ8_ANTG3\n",
      "102  0.068175             PLZ8_ANTG4\n",
      "84   0.066484         WOHNDAUER_2008\n",
      "89   0.056835            KBA05_ANTG4\n",
      "108  0.053475              CI_WEALTH\n",
      "105  0.052854                 ARBEIT\n",
      "107  0.052560               RELAT_AB\n",
      "100  0.050146             PLZ8_ANTG2\n",
      "112  0.049663    ANZ_HAUSHALTE_AKTIV\n",
      "0    0.046076              ANREDE_KZ\n",
      "82   0.033574     HH_EINKOMMEN_SCORE\n",
      "88   0.031883            KBA05_ANTG3\n",
      "113  0.028388           ANZ_HH_TITEL\n",
      "3    0.016639               VERS_TYP\n",
      "109  0.014389          CI_LIFE_STAGE\n",
      "12   0.013090      CAMEO_DEUG_2015_8\n",
      "98   0.011069               REGIOTYP\n",
      "..        ...                    ...\n",
      "4   -0.007227            OST_WEST_KZ\n",
      "6   -0.007542      CAMEO_DEUG_2015_2\n",
      "87  -0.010004            KBA05_ANTG2\n",
      "8   -0.011031      CAMEO_DEUG_2015_4\n",
      "115 -0.028132       KBA13_ANZAHL_PKW\n",
      "94  -0.032593     GEBAEUDETYP_RASTER\n",
      "114 -0.041684       MIN_GEBAEUDEJAHR\n",
      "91  -0.049841               BALLRAUM\n",
      "85  -0.053960            KONSUMNAEHE\n",
      "86  -0.054163            KBA05_ANTG1\n",
      "110 -0.054279           ANZ_PERSONEN\n",
      "104 -0.055492               PLZ8_GBZ\n",
      "93  -0.059924             INNENSTADT\n",
      "66  -0.060407             HEALTH_TYP\n",
      "96  -0.065106             MOBI_REGIO\n",
      "90  -0.066520              KBA05_GBZ\n",
      "72  -0.067556             SEMIO_VERT\n",
      "99  -0.068877             PLZ8_ANTG1\n",
      "68  -0.112166              SEMIO_SOZ\n",
      "97  -0.161854      ONLINE_AFFINITAET\n",
      "71  -0.179415              SEMIO_MAT\n",
      "76  -0.188825              SEMIO_RAT\n",
      "69  -0.200363              SEMIO_FAM\n",
      "63  -0.215854         FINANZ_ANLEGER\n",
      "75  -0.237276             SEMIO_KULT\n",
      "64  -0.237372  FINANZ_UNAUFFAELLIGER\n",
      "80  -0.250981          SEMIO_PFLICHT\n",
      "81  -0.251420            SEMIO_TRADV\n",
      "61  -0.253857          FINANZ_SPARER\n",
      "70  -0.279144              SEMIO_REL\n",
      "\n",
      "[116 rows x 2 columns]\n"
     ]
    }
   ],
   "source": [
    "# Map weights for the second principal component to corresponding feature names\n",
    "# and then print the linked values, sorted by weight.\n",
    "weightsOfPca(1)"
   ]
  },
  {
   "cell_type": "code",
   "execution_count": 165,
   "metadata": {},
   "outputs": [
    {
     "name": "stdout",
     "output_type": "stream",
     "text": [
      "116\n",
      "       weight                   name\n",
      "72   0.369022             SEMIO_VERT\n",
      "68   0.279256              SEMIO_SOZ\n",
      "69   0.261762              SEMIO_FAM\n",
      "75   0.243745             SEMIO_KULT\n",
      "60   0.174908      FINANZ_MINIMALIST\n",
      "67   0.117331         RETOURTYP_BK_S\n",
      "62   0.113671       FINANZ_VORSORGER\n",
      "83   0.096964         W_KEIT_KIND_HH\n",
      "59   0.090231   ALTERSKATEGORIE_GROB\n",
      "73   0.073842             SEMIO_LUST\n",
      "70   0.067625              SEMIO_REL\n",
      "71   0.053405              SEMIO_MAT\n",
      "84   0.038625         WOHNDAUER_2008\n",
      "102  0.038201             PLZ8_ANTG4\n",
      "101  0.036872             PLZ8_ANTG3\n",
      "106  0.036214            ORTSGR_KLS9\n",
      "92   0.036014               EWDICHTE\n",
      "105  0.028437                 ARBEIT\n",
      "107  0.025825               RELAT_AB\n",
      "89   0.024725            KBA05_ANTG4\n",
      "100  0.024074             PLZ8_ANTG2\n",
      "108  0.022443              CI_WEALTH\n",
      "112  0.022021    ANZ_HAUSHALTE_AKTIV\n",
      "58   0.018275            PJ_MOVEMENT\n",
      "1    0.018275       GREEN_AVANTGARDE\n",
      "113  0.012685           ANZ_HH_TITEL\n",
      "111  0.009640              ANZ_TITEL\n",
      "3    0.008982               VERS_TYP\n",
      "13   0.005925      CAMEO_DEUG_2015_9\n",
      "12   0.005176      CAMEO_DEUG_2015_8\n",
      "..        ...                    ...\n",
      "8   -0.006698      CAMEO_DEUG_2015_4\n",
      "110 -0.006888           ANZ_PERSONEN\n",
      "87  -0.012581            KBA05_ANTG2\n",
      "95  -0.014289                    KKK\n",
      "114 -0.015390       MIN_GEBAEUDEJAHR\n",
      "86  -0.015425            KBA05_ANTG1\n",
      "90  -0.019432              KBA05_GBZ\n",
      "96  -0.021921             MOBI_REGIO\n",
      "115 -0.022362       KBA13_ANZAHL_PKW\n",
      "82  -0.024911     HH_EINKOMMEN_SCORE\n",
      "94  -0.026558     GEBAEUDETYP_RASTER\n",
      "66  -0.027218             HEALTH_TYP\n",
      "91  -0.027983               BALLRAUM\n",
      "85  -0.031089            KONSUMNAEHE\n",
      "104 -0.035016               PLZ8_GBZ\n",
      "93  -0.035234             INNENSTADT\n",
      "99  -0.039017             PLZ8_ANTG1\n",
      "65  -0.051339       FINANZ_HAUSBAUER\n",
      "97  -0.058782      ONLINE_AFFINITAET\n",
      "80  -0.090427          SEMIO_PFLICHT\n",
      "81  -0.090460            SEMIO_TRADV\n",
      "64  -0.110972  FINANZ_UNAUFFAELLIGER\n",
      "61  -0.120584          FINANZ_SPARER\n",
      "74  -0.181200              SEMIO_ERL\n",
      "0   -0.193699              ANREDE_KZ\n",
      "63  -0.203191         FINANZ_ANLEGER\n",
      "76  -0.237677              SEMIO_RAT\n",
      "77  -0.294104             SEMIO_KRIT\n",
      "78  -0.338923              SEMIO_DOM\n",
      "79  -0.359856             SEMIO_KAEM\n",
      "\n",
      "[116 rows x 2 columns]\n"
     ]
    }
   ],
   "source": [
    "# Map weights for the third principal component to corresponding feature names\n",
    "# and then print the linked values, sorted by weight.\n",
    "weightsOfPca(2)"
   ]
  },
  {
   "cell_type": "markdown",
   "metadata": {},
   "source": [
    "### Discussion 2.3: Interpret Principal Components\n",
    "\n",
    "(Double-click this cell and replace this text with your own text, reporting your observations from detailed investigation of the first few principal components generated. Can we interpret positive and negative values from them in a meaningful way?)\n",
    "* I gained the weight of components with the attribute of pca.\n",
    "* I defined the new pandas variable 'componentspd' which contained the weight and name of the compoent.\n",
    "* I sorted the variable componentspd by weight .  \n",
    "* **The component 0 contained PLZ8_ANTG3,PLZ8_ANTG4 and CI_WEALTH which were the top3 features of it.All of them meaned the household  and family homes.**\n",
    "* **The component 1 contained ALTERSKATEGORIE_GROB,SEMIO_ERL,FINANZ_VORSORGER which were the top3 features of it.All of them meaned ages,event-oriented and preparation.**\n",
    "* **The component 2 contained SEMIO_VERT,SEMIO_SOZ,SEMIO_FAM and SEMIO_KULT which were the top4 features of it.All of them meaned the dreamful,socially-minded,faimily-minded and sensual-minded. They were all about the human minded.**"
   ]
  },
  {
   "cell_type": "markdown",
   "metadata": {},
   "source": [
    "## Step 3: Clustering\n",
    "\n",
    "### Step 3.1: Apply Clustering to General Population\n",
    "\n",
    "You've assessed and cleaned the demographics data, then scaled and transformed them. Now, it's time to see how the data clusters in the principal components space. In this substep, you will apply k-means clustering to the dataset and use the average within-cluster distances from each point to their assigned cluster's centroid to decide on a number of clusters to keep.\n",
    "\n",
    "- Use sklearn's [KMeans](http://scikit-learn.org/stable/modules/generated/sklearn.cluster.KMeans.html#sklearn.cluster.KMeans) class to perform k-means clustering on the PCA-transformed data.\n",
    "- Then, compute the average difference from each point to its assigned cluster's center. **Hint**: The KMeans object's `.score()` method might be useful here, but note that in sklearn, scores tend to be defined so that larger is better. Try applying it to a small, toy dataset, or use an internet search to help your understanding.\n",
    "- Perform the above two steps for a number of different cluster counts. You can then see how the average distance decreases with an increasing number of clusters. However, each additional cluster provides a smaller net benefit. Use this fact to select a final number of clusters in which to group the data. **Warning**: because of the large size of the dataset, it can take a long time for the algorithm to resolve. The more clusters to fit, the longer the algorithm will take. You should test for cluster counts through at least 10 clusters to get the full picture, but you shouldn't need to test for a number of clusters above about 30.\n",
    "- Once you've selected a final number of clusters to use, re-fit a KMeans instance to perform the clustering operation. Make sure that you also obtain the cluster assignments for the general demographics data, since you'll be using them in the final Step 3.3."
   ]
  },
  {
   "cell_type": "code",
   "execution_count": 62,
   "metadata": {},
   "outputs": [
    {
     "name": "stdout",
     "output_type": "stream",
     "text": [
      "38.54418401507198\n",
      "34.81506559675619\n",
      "32.30607564062663\n",
      "30.752405369366617\n",
      "29.37740247070916\n",
      "28.154983255248954\n",
      "27.182777391581762\n",
      "26.530541841782288\n",
      "25.590489001251616\n",
      "25.632362788299027\n",
      "24.738683018749317\n",
      "24.31375630763945\n",
      "23.928628086850914\n",
      "23.53416230894729\n",
      "23.314762801819906\n",
      "22.94273701985314\n",
      "22.648236886798074\n",
      "22.24036221311986\n"
     ]
    }
   ],
   "source": [
    "# Over a number of different cluster counts...\n",
    "results=[]\n",
    "avgdists=[]\n",
    "for k in range(2,20):\n",
    "\n",
    "    # run k-means clustering on the data and...\n",
    "    km=KMeans(n_clusters=k, random_state=0)\n",
    "    results.append(km.fit_predict(azdias_pca))\n",
    "    \n",
    "    # compute the average within-cluster distances.\n",
    "    avgdist=-1*(km.score(azdias_pca)/len(azdias_pca))\n",
    "    avgdists.append(avgdist)\n",
    "    print(avgdist)\n",
    "    "
   ]
  },
  {
   "cell_type": "code",
   "execution_count": 63,
   "metadata": {},
   "outputs": [
    {
     "data": {
      "text/plain": [
       "[<matplotlib.lines.Line2D at 0x16412c28400>]"
      ]
     },
     "execution_count": 63,
     "metadata": {},
     "output_type": "execute_result"
    },
    {
     "data": {
      "image/png": "[encoded data removed]",
      "text/plain": [
       "<Figure size 1080x576 with 1 Axes>"
      ]
     },
     "metadata": {},
     "output_type": "display_data"
    }
   ],
   "source": [
    "# Investigate the change in within-cluster distance across number of clusters.\n",
    "# HINT: Use matplotlib's plot function to visualize this relationship.\n",
    "plt.figure(figsize=(15,8)) \n",
    "plt.title('average distances of K-mean')\n",
    "plt.xlabel('Number of clusters')\n",
    "plt.ylabel('average distances')\n",
    "plt.xticks([0,2,4,6,8,10,12,14,16,18,20,22,24,26,28],[2,4,6,8,10,12,14,16,18,20,22,24,26,28,30])\n",
    "plt.plot(avgdists,marker='o')"
   ]
  },
  {
   "cell_type": "code",
   "execution_count": 166,
   "metadata": {},
   "outputs": [],
   "source": [
    "# Re-fit the k-means model with the selected number of clusters and obtain\n",
    "# cluster predictions for the general population demographics data.\n",
    "kmeans=KMeans(n_clusters=10,random_state=0)\n",
    "result=kmeans.fit_predict(azdias_pca)"
   ]
  },
  {
   "cell_type": "markdown",
   "metadata": {},
   "source": [
    "### Discussion 3.1: Apply Clustering to General Population\n",
    "\n",
    "(Double-click this cell and replace this text with your own text, reporting your findings and decisions regarding clustering. Into how many clusters have you decided to segment the population?)\n",
    "* I tried 20 clusters to draw a average_distance picture and I found the speed of change delicately after 10 clusters."
   ]
  },
  {
   "cell_type": "markdown",
   "metadata": {},
   "source": [
    "### Step 3.2: Apply All Steps to the Customer Data\n",
    "\n",
    "Now that you have clusters and cluster centers for the general population, it's time to see how the customer data maps on to those clusters. Take care to not confuse this for re-fitting all of the models to the customer data. Instead, you're going to use the fits from the general population to clean, transform, and cluster the customer data. In the last step of the project, you will interpret how the general population fits apply to the customer data.\n",
    "\n",
    "- Don't forget when loading in the customers data, that it is semicolon (`;`) delimited.\n",
    "- Apply the same feature wrangling, selection, and engineering steps to the customer demographics using the `clean_data()` function you created earlier. (You can assume that the customer demographics data has similar meaning behind missing data patterns as the general demographics data.)\n",
    "- Use the sklearn objects from the general demographics data, and apply their transformations to the customers data. That is, you should not be using a `.fit()` or `.fit_transform()` method to re-fit the old objects, nor should you be creating new sklearn objects! Carry the data through the feature scaling, PCA, and clustering steps, obtaining cluster assignments for all of the data in the customer demographics data."
   ]
  },
  {
   "cell_type": "code",
   "execution_count": 167,
   "metadata": {},
   "outputs": [],
   "source": [
    "# Load in the customer demographics data.\n",
    "customers = pd.read_csv('Udacity_CUSTOMERS_Subset.csv',sep=';')"
   ]
  },
  {
   "cell_type": "code",
   "execution_count": 168,
   "metadata": {},
   "outputs": [
    {
     "name": "stderr",
     "output_type": "stream",
     "text": [
      "c:\\program files\\python3\\lib\\site-packages\\ipykernel_launcher.py:38: SettingWithCopyWarning: \n",
      "A value is trying to be set on a copy of a slice from a DataFrame.\n",
      "Try using .loc[row_indexer,col_indexer] = value instead\n",
      "\n",
      "See the caveats in the documentation: http://pandas.pydata.org/pandas-docs/stable/indexing.html#indexing-view-versus-copy\n",
      "c:\\program files\\python3\\lib\\site-packages\\ipykernel_launcher.py:39: SettingWithCopyWarning: \n",
      "A value is trying to be set on a copy of a slice from a DataFrame.\n",
      "Try using .loc[row_indexer,col_indexer] = value instead\n",
      "\n",
      "See the caveats in the documentation: http://pandas.pydata.org/pandas-docs/stable/indexing.html#indexing-view-versus-copy\n",
      "c:\\program files\\python3\\lib\\site-packages\\pandas\\core\\indexing.py:543: SettingWithCopyWarning: \n",
      "A value is trying to be set on a copy of a slice from a DataFrame.\n",
      "Try using .loc[row_indexer,col_indexer] = value instead\n",
      "\n",
      "See the caveats in the documentation: http://pandas.pydata.org/pandas-docs/stable/indexing.html#indexing-view-versus-copy\n",
      "  self.obj[item] = s\n"
     ]
    }
   ],
   "source": [
    "# Apply preprocessing, feature transformation, and clustering from the general\n",
    "# demographics onto the customer data, obtaining cluster predictions for the\n",
    "# customer demographics data.\n",
    "customers_df=clean_data(customers)\n",
    "\n",
    "customers_ordinal_data=customers_df[ordinal_list]\n",
    "customers_ordinal_data=imputer.fit_transform(customers_ordinal_data)\n",
    "customers_ordinal_data=scaler.fit_transform(customers_ordinal_data)\n",
    "customers_ordinal_data=pd.DataFrame(customers_ordinal_data, columns=ordinal_list)\n",
    "\n",
    "customers_df=customers_df.drop(ordinal_list,axis=1)\n",
    "customers_df=customers_df.fillna(0)\n",
    "customers_df=customers_df.merge(customers_ordinal_data,left_on=customers_df.index, right_on=customers_ordinal_data.index, how='outer')\n",
    "\n",
    "customers_df=customers_df.drop('key_0',axis=1)\n",
    "customers_pca = pca.transform(customers_df)\n",
    "\n",
    "customers_result=kmeans.predict(customers_pca)"
   ]
  },
  {
   "cell_type": "markdown",
   "metadata": {},
   "source": [
    "### Step 3.3: Compare Customer Data to Demographics Data\n",
    "\n",
    "At this point, you have clustered data based on demographics of the general population of Germany, and seen how the customer data for a mail-order sales company maps onto those demographic clusters. In this final substep, you will compare the two cluster distributions to see where the strongest customer base for the company is.\n",
    "\n",
    "Consider the proportion of persons in each cluster for the general population, and the proportions for the customers. If we think the company's customer base to be universal, then the cluster assignment proportions should be fairly similar between the two. If there are only particular segments of the population that are interested in the company's products, then we should see a mismatch from one to the other. If there is a higher proportion of persons in a cluster for the customer data compared to the general population (e.g. 5% of persons are assigned to a cluster for the general population, but 15% of the customer data is closest to that cluster's centroid) then that suggests the people in that cluster to be a target audience for the company. On the other hand, the proportion of the data in a cluster being larger in the general population than the customer data (e.g. only 2% of customers closest to a population centroid that captures 6% of the data) suggests that group of persons to be outside of the target demographics.\n",
    "\n",
    "Take a look at the following points in this step:\n",
    "\n",
    "- Compute the proportion of data points in each cluster for the general population and the customer data. Visualizations will be useful here: both for the individual dataset proportions, but also to visualize the ratios in cluster representation between groups. Seaborn's [`countplot()`](https://seaborn.pydata.org/generated/seaborn.countplot.html) or [`barplot()`](https://seaborn.pydata.org/generated/seaborn.barplot.html) function could be handy.\n",
    "  - Recall the analysis you performed in step 1.1.3 of the project, where you separated out certain data points from the dataset if they had more than a specified threshold of missing values. If you found that this group was qualitatively different from the main bulk of the data, you should treat this as an additional data cluster in this analysis. Make sure that you account for the number of data points in this subset, for both the general population and customer datasets, when making your computations!\n",
    "- Which cluster or clusters are overrepresented in the customer dataset compared to the general population? Select at least one such cluster and infer what kind of people might be represented by that cluster. Use the principal component interpretations from step 2.3 or look at additional components to help you make this inference. Alternatively, you can use the `.inverse_transform()` method of the PCA and StandardScaler objects to transform centroids back to the original data space and interpret the retrieved values directly.\n",
    "- Perform a similar investigation for the underrepresented clusters. Which cluster or clusters are underrepresented in the customer dataset compared to the general population, and what kinds of people are typified by these clusters?"
   ]
  },
  {
   "cell_type": "code",
   "execution_count": 169,
   "metadata": {},
   "outputs": [
    {
     "name": "stdout",
     "output_type": "stream",
     "text": [
      "[ 61118  87855  55336  70913 104610  79924  60927  87574  91040  88247]\n",
      "[ 9588 11977  8581 17007 14234  6051  4749 13785 32420 21879]\n"
     ]
    }
   ],
   "source": [
    "bin_list=np.bincount(result)\n",
    "print(bin_list)\n",
    "customers_bin_list=np.bincount(customers_result)\n",
    "print(customers_bin_list)"
   ]
  },
  {
   "cell_type": "code",
   "execution_count": 170,
   "metadata": {},
   "outputs": [
    {
     "data": {
      "image/png": "[encoded data removed]",
      "text/plain": [
       "<Figure size 1080x576 with 2 Axes>"
      ]
     },
     "metadata": {},
     "output_type": "display_data"
    }
   ],
   "source": [
    "# Compare the proportion of data in each cluster for the customer data to the\n",
    "# proportion of data in each cluster for the general population.\n",
    "\n",
    "percent_bin_list = list(map(lambda i: i/len(result), bin_list)) \n",
    "# print(percent_bin_list)\n",
    "customers_percent_bin_list = list(map(lambda i: i/len(customers_result), customers_bin_list)) \n",
    "plt.figure(figsize=(15,8)) \n",
    "plt.subplots_adjust(left=None, bottom=None, right=None, top=None,\n",
    "                wspace=None, hspace=0.6)\n",
    "\n",
    "ax1=plt.subplot(211)\n",
    "plt.bar([0,1,2,3,4,5,6,7,8,9],percent_bin_list)\n",
    "ax1.set_title('Demographics')\n",
    "ax1.set_xlabel('cluster')\n",
    "plt.xticks([0,1,2,3,4,5,6,7,8,9])\n",
    "ax1.set_ylabel('the distribution of values')\n",
    "\n",
    "ax2=plt.subplot(212)\n",
    "plt.bar([0,1,2,3,4,5,6,7,8,9],customers_percent_bin_list)\n",
    "ax2.set_title('Customers')\n",
    "ax2.set_xlabel('cluster')\n",
    "plt.xticks([0,1,2,3,4,5,6,7,8,9])\n",
    "ax2.set_ylabel('the distribution of values')\n",
    "plt.show()\n"
   ]
  },
  {
   "cell_type": "code",
   "execution_count": 178,
   "metadata": {},
   "outputs": [
    {
     "name": "stdout",
     "output_type": "stream",
     "text": [
      "[-2.98507935  0.39914967  2.37079984  0.93019222  0.29483504 -0.10609729\n",
      "  0.0212917  -0.21640301  0.11324837 -0.01969757 -0.09930846  0.04378422\n",
      "  0.09629785 -0.07281326  0.00876664 -0.08325914  0.02943819  0.04350248\n",
      " -0.03209311  0.03073542]\n"
     ]
    }
   ],
   "source": [
    "# What kinds of people are part of a cluster that is overrepresented in the\n",
    "# customer data compared to the general population?\n",
    "\n",
    "overrepresented=kmeans.cluster_centers_[8]\n",
    "print(overrepresented)"
   ]
  },
  {
   "cell_type": "code",
   "execution_count": 179,
   "metadata": {},
   "outputs": [
    {
     "name": "stdout",
     "output_type": "stream",
     "text": [
      "      weight\n",
      "2   2.370800\n",
      "3   0.930192\n",
      "1   0.399150\n",
      "4   0.294835\n",
      "8   0.113248\n",
      "12  0.096298\n",
      "11  0.043784\n",
      "17  0.043502\n",
      "19  0.030735\n",
      "16  0.029438\n",
      "6   0.021292\n",
      "14  0.008767\n",
      "9  -0.019698\n",
      "18 -0.032093\n",
      "13 -0.072813\n",
      "15 -0.083259\n",
      "10 -0.099308\n",
      "5  -0.106097\n",
      "7  -0.216403\n",
      "0  -2.985079\n"
     ]
    }
   ],
   "source": [
    "# check the details\n",
    "overrepresentedpd=pd.DataFrame(overrepresented,columns=['weight'])\n",
    "print(overrepresentedpd.sort_values(by='weight',ascending=False))"
   ]
  },
  {
   "cell_type": "code",
   "execution_count": 182,
   "metadata": {},
   "outputs": [
    {
     "name": "stdout",
     "output_type": "stream",
     "text": [
      "116\n",
      "       weight                   name\n",
      "72   0.369022             SEMIO_VERT\n",
      "68   0.279256              SEMIO_SOZ\n",
      "69   0.261762              SEMIO_FAM\n",
      "75   0.243745             SEMIO_KULT\n",
      "60   0.174908      FINANZ_MINIMALIST\n",
      "67   0.117331         RETOURTYP_BK_S\n",
      "62   0.113671       FINANZ_VORSORGER\n",
      "83   0.096964         W_KEIT_KIND_HH\n",
      "59   0.090231   ALTERSKATEGORIE_GROB\n",
      "73   0.073842             SEMIO_LUST\n",
      "70   0.067625              SEMIO_REL\n",
      "71   0.053405              SEMIO_MAT\n",
      "84   0.038625         WOHNDAUER_2008\n",
      "102  0.038201             PLZ8_ANTG4\n",
      "101  0.036872             PLZ8_ANTG3\n",
      "106  0.036214            ORTSGR_KLS9\n",
      "92   0.036014               EWDICHTE\n",
      "105  0.028437                 ARBEIT\n",
      "107  0.025825               RELAT_AB\n",
      "89   0.024725            KBA05_ANTG4\n",
      "100  0.024074             PLZ8_ANTG2\n",
      "108  0.022443              CI_WEALTH\n",
      "112  0.022021    ANZ_HAUSHALTE_AKTIV\n",
      "58   0.018275            PJ_MOVEMENT\n",
      "1    0.018275       GREEN_AVANTGARDE\n",
      "113  0.012685           ANZ_HH_TITEL\n",
      "111  0.009640              ANZ_TITEL\n",
      "3    0.008982               VERS_TYP\n",
      "13   0.005925      CAMEO_DEUG_2015_9\n",
      "12   0.005176      CAMEO_DEUG_2015_8\n",
      "..        ...                    ...\n",
      "8   -0.006698      CAMEO_DEUG_2015_4\n",
      "110 -0.006888           ANZ_PERSONEN\n",
      "87  -0.012581            KBA05_ANTG2\n",
      "95  -0.014289                    KKK\n",
      "114 -0.015390       MIN_GEBAEUDEJAHR\n",
      "86  -0.015425            KBA05_ANTG1\n",
      "90  -0.019432              KBA05_GBZ\n",
      "96  -0.021921             MOBI_REGIO\n",
      "115 -0.022362       KBA13_ANZAHL_PKW\n",
      "82  -0.024911     HH_EINKOMMEN_SCORE\n",
      "94  -0.026558     GEBAEUDETYP_RASTER\n",
      "66  -0.027218             HEALTH_TYP\n",
      "91  -0.027983               BALLRAUM\n",
      "85  -0.031089            KONSUMNAEHE\n",
      "104 -0.035016               PLZ8_GBZ\n",
      "93  -0.035234             INNENSTADT\n",
      "99  -0.039017             PLZ8_ANTG1\n",
      "65  -0.051339       FINANZ_HAUSBAUER\n",
      "97  -0.058782      ONLINE_AFFINITAET\n",
      "80  -0.090427          SEMIO_PFLICHT\n",
      "81  -0.090460            SEMIO_TRADV\n",
      "64  -0.110972  FINANZ_UNAUFFAELLIGER\n",
      "61  -0.120584          FINANZ_SPARER\n",
      "74  -0.181200              SEMIO_ERL\n",
      "0   -0.193699              ANREDE_KZ\n",
      "63  -0.203191         FINANZ_ANLEGER\n",
      "76  -0.237677              SEMIO_RAT\n",
      "77  -0.294104             SEMIO_KRIT\n",
      "78  -0.338923              SEMIO_DOM\n",
      "79  -0.359856             SEMIO_KAEM\n",
      "\n",
      "[116 rows x 2 columns]\n"
     ]
    }
   ],
   "source": [
    "# the first component of the overrepresented cluster\n",
    "weightsOfPca(2)"
   ]
  },
  {
   "cell_type": "code",
   "execution_count": 187,
   "metadata": {},
   "outputs": [
    {
     "name": "stdout",
     "output_type": "stream",
     "text": [
      "[8 7 3 ... 8 7 0]\n"
     ]
    }
   ],
   "source": [
    "print(customers_result)"
   ]
  },
  {
   "cell_type": "code",
   "execution_count": 180,
   "metadata": {},
   "outputs": [
    {
     "name": "stdout",
     "output_type": "stream",
     "text": [
      "[ 4.12641470e+00 -2.94392678e+00  2.34554987e+00 -1.55043011e-01\n",
      " -1.57210553e-02 -1.44982313e-02  9.18465895e-02  1.82359395e-01\n",
      " -3.51560094e-01  2.52501846e-01 -1.98499168e-02 -1.78932386e-01\n",
      " -5.51199772e-02 -1.03684585e-02  1.40107336e-01  9.53122887e-03\n",
      "  1.02658651e-01  1.78881311e-03  9.89965698e-02 -1.05009321e-01]\n"
     ]
    }
   ],
   "source": [
    "# What kinds of people are part of a cluster that is underrepresented in the\n",
    "# customer data compared to the general population?\n",
    "underrepresented=kmeans.cluster_centers_[6]\n",
    "print(underrepresented)"
   ]
  },
  {
   "cell_type": "code",
   "execution_count": 181,
   "metadata": {},
   "outputs": [
    {
     "name": "stdout",
     "output_type": "stream",
     "text": [
      "      weight\n",
      "0   4.126415\n",
      "2   2.345550\n",
      "9   0.252502\n",
      "7   0.182359\n",
      "14  0.140107\n",
      "16  0.102659\n",
      "18  0.098997\n",
      "6   0.091847\n",
      "15  0.009531\n",
      "17  0.001789\n",
      "13 -0.010368\n",
      "5  -0.014498\n",
      "4  -0.015721\n",
      "10 -0.019850\n",
      "12 -0.055120\n",
      "19 -0.105009\n",
      "3  -0.155043\n",
      "11 -0.178932\n",
      "8  -0.351560\n",
      "1  -2.943927\n"
     ]
    }
   ],
   "source": [
    "# check the details\n",
    "underrepresentedpd=pd.DataFrame(underrepresented,columns=['weight'])\n",
    "print(underrepresentedpd.sort_values(by='weight',ascending=False))"
   ]
  },
  {
   "cell_type": "code",
   "execution_count": 184,
   "metadata": {},
   "outputs": [
    {
     "name": "stdout",
     "output_type": "stream",
     "text": [
      "116\n",
      "       weight                   name\n",
      "101  0.238436             PLZ8_ANTG3\n",
      "102  0.230554             PLZ8_ANTG4\n",
      "108  0.213550              CI_WEALTH\n",
      "106  0.212426            ORTSGR_KLS9\n",
      "92   0.211127               EWDICHTE\n",
      "82   0.202588     HH_EINKOMMEN_SCORE\n",
      "65   0.169895       FINANZ_HAUSBAUER\n",
      "100  0.164175             PLZ8_ANTG2\n",
      "89   0.161483            KBA05_ANTG4\n",
      "105  0.150922                 ARBEIT\n",
      "107  0.144915               RELAT_AB\n",
      "112  0.141901    ANZ_HAUSHALTE_AKTIV\n",
      "88   0.141277            KBA05_ANTG3\n",
      "61   0.123846          FINANZ_SPARER\n",
      "80   0.095356          SEMIO_PFLICHT\n",
      "70   0.093275              SEMIO_REL\n",
      "76   0.077090              SEMIO_RAT\n",
      "81   0.069300            SEMIO_TRADV\n",
      "69   0.068236              SEMIO_FAM\n",
      "71   0.068074              SEMIO_MAT\n",
      "98   0.065962               REGIOTYP\n",
      "75   0.058802             SEMIO_KULT\n",
      "64   0.055352  FINANZ_UNAUFFAELLIGER\n",
      "83   0.047209         W_KEIT_KIND_HH\n",
      "103  0.045955               PLZ8_HHZ\n",
      "13   0.045384      CAMEO_DEUG_2015_9\n",
      "63   0.043968         FINANZ_ANLEGER\n",
      "79   0.043100             SEMIO_KAEM\n",
      "12   0.040641      CAMEO_DEUG_2015_8\n",
      "68   0.040549              SEMIO_SOZ\n",
      "..        ...                    ...\n",
      "27  -0.011051      CAMEO_DEU_2015_4A\n",
      "22  -0.011056      CAMEO_DEU_2015_2D\n",
      "29  -0.013359      CAMEO_DEU_2015_4C\n",
      "4   -0.020534            OST_WEST_KZ\n",
      "7   -0.024149      CAMEO_DEUG_2015_3\n",
      "8   -0.029755      CAMEO_DEUG_2015_4\n",
      "6   -0.030666      CAMEO_DEUG_2015_2\n",
      "72  -0.038459             SEMIO_VERT\n",
      "1   -0.038965       GREEN_AVANTGARDE\n",
      "58  -0.038965            PJ_MOVEMENT\n",
      "84  -0.054425         WOHNDAUER_2008\n",
      "73  -0.055988             SEMIO_LUST\n",
      "97  -0.057666      ONLINE_AFFINITAET\n",
      "114 -0.061098       MIN_GEBAEUDEJAHR\n",
      "74  -0.061681              SEMIO_ERL\n",
      "115 -0.081248       KBA13_ANZAHL_PKW\n",
      "110 -0.082235           ANZ_PERSONEN\n",
      "62  -0.091265       FINANZ_VORSORGER\n",
      "59  -0.096910   ALTERSKATEGORIE_GROB\n",
      "94  -0.123721     GEBAEUDETYP_RASTER\n",
      "109 -0.126142          CI_LIFE_STAGE\n",
      "91  -0.138170               BALLRAUM\n",
      "104 -0.174245               PLZ8_GBZ\n",
      "93  -0.176815             INNENSTADT\n",
      "85  -0.178769            KONSUMNAEHE\n",
      "60  -0.209669      FINANZ_MINIMALIST\n",
      "90  -0.224114              KBA05_GBZ\n",
      "86  -0.228639            KBA05_ANTG1\n",
      "99  -0.236452             PLZ8_ANTG1\n",
      "96  -0.250236             MOBI_REGIO\n",
      "\n",
      "[116 rows x 2 columns]\n"
     ]
    }
   ],
   "source": [
    "# the first component of the underrepresented cluster\n",
    "weightsOfPca(0)"
   ]
  },
  {
   "cell_type": "markdown",
   "metadata": {},
   "source": [
    "### Discussion 3.3: Compare Customer Data to Demographics Data\n",
    "\n",
    "(Double-click this cell and replace this text with your own text, reporting findings and conclusions from the clustering analysis. Can we describe segments of the population that are relatively popular with the mail-order company, or relatively unpopular with the company?)\n",
    "* I computed the percentage of all ten clusters of the two datasets which were the demographics data and the customers data.\n",
    "* I drawed the percentage of the clusters pictures for each data.\n",
    "* I found the overrepresented cluster 1 and the underrepresented cluster 0.\n",
    "* **The cluster 1 contained component 1 and component 0  which were the top2 components**\n",
    "* **The cluster 0 contained component 1 which were the top1 components**\n",
    "* **The component 0 contained PLZ8_ANTG3,PLZ8_ANTG4 and CI_WEALTH which were the top3 features of it.All of them meaned the household  and family homes.**\n",
    "* **The component 1 contained ALTERSKATEGORIE_GROB,SEMIO_ERL,FINANZ_VORSORGER which were the top3 features of it.All of them meaned ages,event-oriented and preparation.**"
   ]
  },
  {
   "cell_type": "markdown",
   "metadata": {},
   "source": [
    "> Congratulations on making it this far in the project! Before you finish, make sure to check through the entire notebook from top to bottom to make sure that your analysis follows a logical flow and all of your findings are documented in **Discussion** cells. Once you've checked over all of your work, you should export the notebook as an HTML document to submit for evaluation. You can do this from the menu, navigating to **File -> Download as -> HTML (.html)**. You will submit both that document and this notebook for your project submission."
   ]
  },
  {
   "cell_type": "code",
   "execution_count": null,
   "metadata": {},
   "outputs": [],
   "source": []
  }
 ],
 "metadata": {
  "kernelspec": {
   "display_name": "Python 3",
   "language": "python",
   "name": "python3"
  },
  "language_info": {
   "codemirror_mode": {
    "name": "ipython",
    "version": 3
   },
   "file_extension": ".py",
   "mimetype": "text/x-python",
   "name": "python",
   "nbconvert_exporter": "python",
   "pygments_lexer": "ipython3",
   "version": "3.6.6"
  }
 },
 "nbformat": 4,
 "nbformat_minor": 2
}
